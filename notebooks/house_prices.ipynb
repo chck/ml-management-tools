{
 "cells": [
  {
   "cell_type": "code",
   "execution_count": 1,
   "metadata": {},
   "outputs": [
    {
     "name": "stdout",
     "output_type": "stream",
     "text": [
      "name                    size  creationDate         \n",
      "---------------------  -----  -------------------  \n",
      "data_description.txt    13KB  2019-12-15 21:33:33  \n",
      "sample_submission.csv   31KB  2019-12-15 21:33:33  \n",
      "train.csv              450KB  2019-12-15 21:33:33  \n",
      "test.csv               441KB  2019-12-15 21:33:33  \n"
     ]
    }
   ],
   "source": [
    "# Ready to use kaggle api:\n",
    "# https://github.com/Kaggle/kaggle-api\n",
    "\n",
    "!kaggle competitions files -c house-prices-advanced-regression-techniques"
   ]
  },
  {
   "cell_type": "code",
   "execution_count": 7,
   "metadata": {},
   "outputs": [
    {
     "name": "stdout",
     "output_type": "stream",
     "text": [
      "Downloading train.csv to data\n",
      "  0%|                                                | 0.00/450k [00:00<?, ?B/s]\n",
      "100%|████████████████████████████████████████| 450k/450k [00:00<00:00, 7.99MB/s]\n",
      "Downloading test.csv to data\n",
      "  0%|                                                | 0.00/441k [00:00<?, ?B/s]\n",
      "100%|████████████████████████████████████████| 441k/441k [00:00<00:00, 6.92MB/s]\n",
      "Downloading data_description.txt to data\n",
      "  0%|                                               | 0.00/13.1k [00:00<?, ?B/s]\n",
      "100%|██████████████████████████████████████| 13.1k/13.1k [00:00<00:00, 11.1MB/s]\n"
     ]
    }
   ],
   "source": [
    "# You must agree the competition rules prior to the downloading dataset:\n",
    "# https://www.kaggle.com/c/house-prices-advanced-regression-techniques/data\n",
    "\n",
    "!kaggle competitions download -c house-prices-advanced-regression-techniques -f train.csv -p data\n",
    "!kaggle competitions download -c house-prices-advanced-regression-techniques -f test.csv -p data\n",
    "!kaggle competitions download -c house-prices-advanced-regression-techniques -f data_description.txt -p data"
   ]
  },
  {
   "cell_type": "code",
   "execution_count": 1,
   "metadata": {},
   "outputs": [
    {
     "data": {
      "text/html": [
       "<div>\n",
       "<style scoped>\n",
       "    .dataframe tbody tr th:only-of-type {\n",
       "        vertical-align: middle;\n",
       "    }\n",
       "\n",
       "    .dataframe tbody tr th {\n",
       "        vertical-align: top;\n",
       "    }\n",
       "\n",
       "    .dataframe thead th {\n",
       "        text-align: right;\n",
       "    }\n",
       "</style>\n",
       "<table border=\"1\" class=\"dataframe\">\n",
       "  <thead>\n",
       "    <tr style=\"text-align: right;\">\n",
       "      <th></th>\n",
       "      <th>Id</th>\n",
       "      <th>MSSubClass</th>\n",
       "      <th>MSZoning</th>\n",
       "      <th>LotFrontage</th>\n",
       "      <th>LotArea</th>\n",
       "      <th>Street</th>\n",
       "      <th>Alley</th>\n",
       "      <th>LotShape</th>\n",
       "      <th>LandContour</th>\n",
       "      <th>Utilities</th>\n",
       "      <th>...</th>\n",
       "      <th>PoolArea</th>\n",
       "      <th>PoolQC</th>\n",
       "      <th>Fence</th>\n",
       "      <th>MiscFeature</th>\n",
       "      <th>MiscVal</th>\n",
       "      <th>MoSold</th>\n",
       "      <th>YrSold</th>\n",
       "      <th>SaleType</th>\n",
       "      <th>SaleCondition</th>\n",
       "      <th>SalePrice</th>\n",
       "    </tr>\n",
       "  </thead>\n",
       "  <tbody>\n",
       "    <tr>\n",
       "      <th>0</th>\n",
       "      <td>1</td>\n",
       "      <td>60</td>\n",
       "      <td>RL</td>\n",
       "      <td>65.0</td>\n",
       "      <td>8450</td>\n",
       "      <td>Pave</td>\n",
       "      <td>NaN</td>\n",
       "      <td>Reg</td>\n",
       "      <td>Lvl</td>\n",
       "      <td>AllPub</td>\n",
       "      <td>...</td>\n",
       "      <td>0</td>\n",
       "      <td>NaN</td>\n",
       "      <td>NaN</td>\n",
       "      <td>NaN</td>\n",
       "      <td>0</td>\n",
       "      <td>2</td>\n",
       "      <td>2008</td>\n",
       "      <td>WD</td>\n",
       "      <td>Normal</td>\n",
       "      <td>208500.0</td>\n",
       "    </tr>\n",
       "    <tr>\n",
       "      <th>1</th>\n",
       "      <td>2</td>\n",
       "      <td>20</td>\n",
       "      <td>RL</td>\n",
       "      <td>80.0</td>\n",
       "      <td>9600</td>\n",
       "      <td>Pave</td>\n",
       "      <td>NaN</td>\n",
       "      <td>Reg</td>\n",
       "      <td>Lvl</td>\n",
       "      <td>AllPub</td>\n",
       "      <td>...</td>\n",
       "      <td>0</td>\n",
       "      <td>NaN</td>\n",
       "      <td>NaN</td>\n",
       "      <td>NaN</td>\n",
       "      <td>0</td>\n",
       "      <td>5</td>\n",
       "      <td>2007</td>\n",
       "      <td>WD</td>\n",
       "      <td>Normal</td>\n",
       "      <td>181500.0</td>\n",
       "    </tr>\n",
       "    <tr>\n",
       "      <th>2</th>\n",
       "      <td>3</td>\n",
       "      <td>60</td>\n",
       "      <td>RL</td>\n",
       "      <td>68.0</td>\n",
       "      <td>11250</td>\n",
       "      <td>Pave</td>\n",
       "      <td>NaN</td>\n",
       "      <td>IR1</td>\n",
       "      <td>Lvl</td>\n",
       "      <td>AllPub</td>\n",
       "      <td>...</td>\n",
       "      <td>0</td>\n",
       "      <td>NaN</td>\n",
       "      <td>NaN</td>\n",
       "      <td>NaN</td>\n",
       "      <td>0</td>\n",
       "      <td>9</td>\n",
       "      <td>2008</td>\n",
       "      <td>WD</td>\n",
       "      <td>Normal</td>\n",
       "      <td>223500.0</td>\n",
       "    </tr>\n",
       "    <tr>\n",
       "      <th>3</th>\n",
       "      <td>4</td>\n",
       "      <td>70</td>\n",
       "      <td>RL</td>\n",
       "      <td>60.0</td>\n",
       "      <td>9550</td>\n",
       "      <td>Pave</td>\n",
       "      <td>NaN</td>\n",
       "      <td>IR1</td>\n",
       "      <td>Lvl</td>\n",
       "      <td>AllPub</td>\n",
       "      <td>...</td>\n",
       "      <td>0</td>\n",
       "      <td>NaN</td>\n",
       "      <td>NaN</td>\n",
       "      <td>NaN</td>\n",
       "      <td>0</td>\n",
       "      <td>2</td>\n",
       "      <td>2006</td>\n",
       "      <td>WD</td>\n",
       "      <td>Abnorml</td>\n",
       "      <td>140000.0</td>\n",
       "    </tr>\n",
       "    <tr>\n",
       "      <th>4</th>\n",
       "      <td>5</td>\n",
       "      <td>60</td>\n",
       "      <td>RL</td>\n",
       "      <td>84.0</td>\n",
       "      <td>14260</td>\n",
       "      <td>Pave</td>\n",
       "      <td>NaN</td>\n",
       "      <td>IR1</td>\n",
       "      <td>Lvl</td>\n",
       "      <td>AllPub</td>\n",
       "      <td>...</td>\n",
       "      <td>0</td>\n",
       "      <td>NaN</td>\n",
       "      <td>NaN</td>\n",
       "      <td>NaN</td>\n",
       "      <td>0</td>\n",
       "      <td>12</td>\n",
       "      <td>2008</td>\n",
       "      <td>WD</td>\n",
       "      <td>Normal</td>\n",
       "      <td>250000.0</td>\n",
       "    </tr>\n",
       "  </tbody>\n",
       "</table>\n",
       "<p>5 rows × 81 columns</p>\n",
       "</div>"
      ],
      "text/plain": [
       "   Id  MSSubClass MSZoning  LotFrontage  LotArea Street Alley LotShape  \\\n",
       "0   1          60       RL         65.0     8450   Pave   NaN      Reg   \n",
       "1   2          20       RL         80.0     9600   Pave   NaN      Reg   \n",
       "2   3          60       RL         68.0    11250   Pave   NaN      IR1   \n",
       "3   4          70       RL         60.0     9550   Pave   NaN      IR1   \n",
       "4   5          60       RL         84.0    14260   Pave   NaN      IR1   \n",
       "\n",
       "  LandContour Utilities  ... PoolArea PoolQC Fence MiscFeature MiscVal MoSold  \\\n",
       "0         Lvl    AllPub  ...        0    NaN   NaN         NaN       0      2   \n",
       "1         Lvl    AllPub  ...        0    NaN   NaN         NaN       0      5   \n",
       "2         Lvl    AllPub  ...        0    NaN   NaN         NaN       0      9   \n",
       "3         Lvl    AllPub  ...        0    NaN   NaN         NaN       0      2   \n",
       "4         Lvl    AllPub  ...        0    NaN   NaN         NaN       0     12   \n",
       "\n",
       "  YrSold  SaleType  SaleCondition  SalePrice  \n",
       "0   2008        WD         Normal   208500.0  \n",
       "1   2007        WD         Normal   181500.0  \n",
       "2   2008        WD         Normal   223500.0  \n",
       "3   2006        WD        Abnorml   140000.0  \n",
       "4   2008        WD         Normal   250000.0  \n",
       "\n",
       "[5 rows x 81 columns]"
      ]
     },
     "execution_count": 1,
     "metadata": {},
     "output_type": "execute_result"
    }
   ],
   "source": [
    "import numpy as np\n",
    "import pandas as pd\n",
    "from matplotlib import pyplot as plt\n",
    "from sklearn.metrics import mean_squared_error, r2_score, classification_report, confusion_matrix\n",
    "from sklearn.model_selection import KFold, GridSearchCV\n",
    "from sklearn import preprocessing\n",
    "\n",
    "train = pd.read_csv(\"./data/train.csv\")\n",
    "test = pd.read_csv(\"./data/test.csv\")\n",
    "data = pd.concat([train, test], sort=False).reset_index(drop=True)\n",
    "data.head()"
   ]
  },
  {
   "cell_type": "code",
   "execution_count": 2,
   "metadata": {},
   "outputs": [],
   "source": [
    "\"\"\"Preprocessing\n",
    "\"\"\"\n",
    "\n",
    "categorical_columns = []\n",
    "\n",
    "for col, dtype in zip(data.columns, data.dtypes):\n",
    "    if dtype == \"object\":\n",
    "        data[col] = data[col].replace(float(\"nan\"), \"NaN\")\n",
    "        categorical_columns.append(col)\n",
    "    else:\n",
    "        data[col] = data[col].fillna(-1)\n",
    "\n",
    "le = preprocessing.LabelEncoder()\n",
    "for c in categorical_columns:\n",
    "    le.fit(list(set(data[c])))\n",
    "    data[c] = le.transform(data[c])\n",
    "    \n",
    "train, test = data[:len(train)], data[len(train):]\n",
    "\n",
    "X = train.drop(columns=[\"SalePrice\", \"Id\"])\n",
    "y = train[\"SalePrice\"].astype(float)\n",
    "\n",
    "test = test.drop(columns=[\"SalePrice\", \"Id\"])"
   ]
  },
  {
   "cell_type": "code",
   "execution_count": 3,
   "metadata": {},
   "outputs": [
    {
     "name": "stdout",
     "output_type": "stream",
     "text": [
      "Number of Outliers: 111\n",
      "Number of rows without outliers: 1349\n"
     ]
    }
   ],
   "source": [
    "\"\"\"Cut outliers\n",
    "\"\"\"\n",
    "\n",
    "from sklearn.ensemble import IsolationForest\n",
    "\n",
    "clf = IsolationForest(max_samples=100, random_state=42)\n",
    "clf.fit(X)\n",
    "y_noano = clf.predict(X)\n",
    "y_noano = pd.DataFrame(y_noano, columns=[\"Top\"])\n",
    "X = X.iloc[y_noano[y_noano[\"Top\"] == 1].index.values].reset_index(drop=True)\n",
    "y = y.iloc[y_noano[y_noano[\"Top\"] == 1].index.values].reset_index(drop=True)\n",
    "\n",
    "print(\"Number of Outliers:\", y_noano[y_noano['Top'] == -1].shape[0])\n",
    "print(\"Number of rows without outliers:\", X.shape[0])"
   ]
  },
  {
   "cell_type": "code",
   "execution_count": 4,
   "metadata": {},
   "outputs": [
    {
     "data": {
      "text/html": [
       "<div>\n",
       "<style scoped>\n",
       "    .dataframe tbody tr th:only-of-type {\n",
       "        vertical-align: middle;\n",
       "    }\n",
       "\n",
       "    .dataframe tbody tr th {\n",
       "        vertical-align: top;\n",
       "    }\n",
       "\n",
       "    .dataframe thead th {\n",
       "        text-align: right;\n",
       "    }\n",
       "</style>\n",
       "<table border=\"1\" class=\"dataframe\">\n",
       "  <thead>\n",
       "    <tr style=\"text-align: right;\">\n",
       "      <th></th>\n",
       "      <th>MSSubClass</th>\n",
       "      <th>MSZoning</th>\n",
       "      <th>LotFrontage</th>\n",
       "      <th>LotArea</th>\n",
       "      <th>Street</th>\n",
       "      <th>Alley</th>\n",
       "      <th>LotShape</th>\n",
       "      <th>LandContour</th>\n",
       "      <th>Utilities</th>\n",
       "      <th>LotConfig</th>\n",
       "      <th>...</th>\n",
       "      <th>ScreenPorch</th>\n",
       "      <th>PoolArea</th>\n",
       "      <th>PoolQC</th>\n",
       "      <th>Fence</th>\n",
       "      <th>MiscFeature</th>\n",
       "      <th>MiscVal</th>\n",
       "      <th>MoSold</th>\n",
       "      <th>YrSold</th>\n",
       "      <th>SaleType</th>\n",
       "      <th>SaleCondition</th>\n",
       "    </tr>\n",
       "  </thead>\n",
       "  <tbody>\n",
       "    <tr>\n",
       "      <th>0</th>\n",
       "      <td>0.235294</td>\n",
       "      <td>0.8</td>\n",
       "      <td>0.210191</td>\n",
       "      <td>0.062802</td>\n",
       "      <td>1.0</td>\n",
       "      <td>0.5</td>\n",
       "      <td>1.0</td>\n",
       "      <td>1.0</td>\n",
       "      <td>0.0</td>\n",
       "      <td>1.0</td>\n",
       "      <td>...</td>\n",
       "      <td>0.0</td>\n",
       "      <td>0.0</td>\n",
       "      <td>1.0</td>\n",
       "      <td>1.0</td>\n",
       "      <td>0.333333</td>\n",
       "      <td>0.0</td>\n",
       "      <td>0.090909</td>\n",
       "      <td>0.50</td>\n",
       "      <td>1.0</td>\n",
       "      <td>0.8</td>\n",
       "    </tr>\n",
       "    <tr>\n",
       "      <th>1</th>\n",
       "      <td>0.000000</td>\n",
       "      <td>0.8</td>\n",
       "      <td>0.257962</td>\n",
       "      <td>0.072904</td>\n",
       "      <td>1.0</td>\n",
       "      <td>0.5</td>\n",
       "      <td>1.0</td>\n",
       "      <td>1.0</td>\n",
       "      <td>0.0</td>\n",
       "      <td>0.5</td>\n",
       "      <td>...</td>\n",
       "      <td>0.0</td>\n",
       "      <td>0.0</td>\n",
       "      <td>1.0</td>\n",
       "      <td>1.0</td>\n",
       "      <td>0.333333</td>\n",
       "      <td>0.0</td>\n",
       "      <td>0.363636</td>\n",
       "      <td>0.25</td>\n",
       "      <td>1.0</td>\n",
       "      <td>0.8</td>\n",
       "    </tr>\n",
       "    <tr>\n",
       "      <th>2</th>\n",
       "      <td>0.235294</td>\n",
       "      <td>0.8</td>\n",
       "      <td>0.219745</td>\n",
       "      <td>0.087396</td>\n",
       "      <td>1.0</td>\n",
       "      <td>0.5</td>\n",
       "      <td>0.0</td>\n",
       "      <td>1.0</td>\n",
       "      <td>0.0</td>\n",
       "      <td>1.0</td>\n",
       "      <td>...</td>\n",
       "      <td>0.0</td>\n",
       "      <td>0.0</td>\n",
       "      <td>1.0</td>\n",
       "      <td>1.0</td>\n",
       "      <td>0.333333</td>\n",
       "      <td>0.0</td>\n",
       "      <td>0.727273</td>\n",
       "      <td>0.50</td>\n",
       "      <td>1.0</td>\n",
       "      <td>0.8</td>\n",
       "    </tr>\n",
       "    <tr>\n",
       "      <th>3</th>\n",
       "      <td>0.294118</td>\n",
       "      <td>0.8</td>\n",
       "      <td>0.194268</td>\n",
       "      <td>0.072464</td>\n",
       "      <td>1.0</td>\n",
       "      <td>0.5</td>\n",
       "      <td>0.0</td>\n",
       "      <td>1.0</td>\n",
       "      <td>0.0</td>\n",
       "      <td>0.0</td>\n",
       "      <td>...</td>\n",
       "      <td>0.0</td>\n",
       "      <td>0.0</td>\n",
       "      <td>1.0</td>\n",
       "      <td>1.0</td>\n",
       "      <td>0.333333</td>\n",
       "      <td>0.0</td>\n",
       "      <td>0.090909</td>\n",
       "      <td>0.00</td>\n",
       "      <td>1.0</td>\n",
       "      <td>0.0</td>\n",
       "    </tr>\n",
       "    <tr>\n",
       "      <th>4</th>\n",
       "      <td>0.235294</td>\n",
       "      <td>0.8</td>\n",
       "      <td>0.270701</td>\n",
       "      <td>0.113835</td>\n",
       "      <td>1.0</td>\n",
       "      <td>0.5</td>\n",
       "      <td>0.0</td>\n",
       "      <td>1.0</td>\n",
       "      <td>0.0</td>\n",
       "      <td>0.5</td>\n",
       "      <td>...</td>\n",
       "      <td>0.0</td>\n",
       "      <td>0.0</td>\n",
       "      <td>1.0</td>\n",
       "      <td>1.0</td>\n",
       "      <td>0.333333</td>\n",
       "      <td>0.0</td>\n",
       "      <td>1.000000</td>\n",
       "      <td>0.50</td>\n",
       "      <td>1.0</td>\n",
       "      <td>0.8</td>\n",
       "    </tr>\n",
       "  </tbody>\n",
       "</table>\n",
       "<p>5 rows × 79 columns</p>\n",
       "</div>"
      ],
      "text/plain": [
       "   MSSubClass  MSZoning  LotFrontage   LotArea  Street  Alley  LotShape  \\\n",
       "0    0.235294       0.8     0.210191  0.062802     1.0    0.5       1.0   \n",
       "1    0.000000       0.8     0.257962  0.072904     1.0    0.5       1.0   \n",
       "2    0.235294       0.8     0.219745  0.087396     1.0    0.5       0.0   \n",
       "3    0.294118       0.8     0.194268  0.072464     1.0    0.5       0.0   \n",
       "4    0.235294       0.8     0.270701  0.113835     1.0    0.5       0.0   \n",
       "\n",
       "   LandContour  Utilities  LotConfig  ...  ScreenPorch  PoolArea  PoolQC  \\\n",
       "0          1.0        0.0        1.0  ...          0.0       0.0     1.0   \n",
       "1          1.0        0.0        0.5  ...          0.0       0.0     1.0   \n",
       "2          1.0        0.0        1.0  ...          0.0       0.0     1.0   \n",
       "3          1.0        0.0        0.0  ...          0.0       0.0     1.0   \n",
       "4          1.0        0.0        0.5  ...          0.0       0.0     1.0   \n",
       "\n",
       "   Fence  MiscFeature  MiscVal    MoSold  YrSold  SaleType  SaleCondition  \n",
       "0    1.0     0.333333      0.0  0.090909    0.50       1.0            0.8  \n",
       "1    1.0     0.333333      0.0  0.363636    0.25       1.0            0.8  \n",
       "2    1.0     0.333333      0.0  0.727273    0.50       1.0            0.8  \n",
       "3    1.0     0.333333      0.0  0.090909    0.00       1.0            0.0  \n",
       "4    1.0     0.333333      0.0  1.000000    0.50       1.0            0.8  \n",
       "\n",
       "[5 rows x 79 columns]"
      ]
     },
     "execution_count": 4,
     "metadata": {},
     "output_type": "execute_result"
    }
   ],
   "source": [
    "\"\"\"Scaling\n",
    "\"\"\"\n",
    "\n",
    "# mat_train = np.matrix(train)\n",
    "# mat_test = np.matrix(test)\n",
    "# mat_y = np.array(train[\"SalePrice\"]).reshape((len(train), 1))\n",
    "\n",
    "mms_y = preprocessing.MinMaxScaler()\n",
    "mms_y.fit(y.values.reshape((len(X), 1)))\n",
    "\n",
    "mms = preprocessing.MinMaxScaler()\n",
    "mms.fit(X.values)\n",
    "\n",
    "mms_test = preprocessing.MinMaxScaler()\n",
    "mms_test.fit(test.values)\n",
    "\n",
    "X = pd.DataFrame(mms.transform(X.values), columns=X.columns)\n",
    "test = pd.DataFrame(mms_test.transform(test.values), columns=test.columns)\n",
    "\n",
    "X.head()"
   ]
  },
  {
   "cell_type": "code",
   "execution_count": 6,
   "metadata": {},
   "outputs": [
    {
     "name": "stdout",
     "output_type": "stream",
     "text": [
      "CPU times: user 276 ms, sys: 85.1 ms, total: 361 ms\n",
      "Wall time: 68.8 ms\n"
     ]
    },
    {
     "data": {
      "text/plain": [
       "0.8955562579705032"
      ]
     },
     "execution_count": 6,
     "metadata": {},
     "output_type": "execute_result"
    }
   ],
   "source": [
    "%%time\n",
    "\n",
    "from sklearn.linear_model import ElasticNet\n",
    "import warnings\n",
    "warnings.filterwarnings('ignore')\n",
    "\n",
    "enet_model = ElasticNet(\n",
    "    alpha=0.0005,\n",
    "    l1_ratio=0.9,\n",
    "    random_state=3,\n",
    ")\n",
    "\n",
    "enet_model.fit(X, y)\n",
    "r2_score(enet_model.predict(X), y)"
   ]
  },
  {
   "cell_type": "code",
   "execution_count": 6,
   "metadata": {},
   "outputs": [
    {
     "name": "stdout",
     "output_type": "stream",
     "text": [
      "0:\tlearn: 65718.3021685\ttotal: 68ms\tremaining: 33.9s\n",
      "50:\tlearn: 22014.5119625\ttotal: 946ms\tremaining: 8.32s\n",
      "100:\tlearn: 14727.6169486\ttotal: 2.04s\tremaining: 8.08s\n",
      "150:\tlearn: 11667.9680263\ttotal: 3.27s\tremaining: 7.55s\n",
      "200:\tlearn: 9587.5430110\ttotal: 4.75s\tremaining: 7.07s\n",
      "250:\tlearn: 7806.1061150\ttotal: 6.56s\tremaining: 6.51s\n",
      "300:\tlearn: 6447.1232646\ttotal: 8.28s\tremaining: 5.47s\n",
      "350:\tlearn: 5470.8751770\ttotal: 10.1s\tremaining: 4.3s\n",
      "400:\tlearn: 4598.8963814\ttotal: 12s\tremaining: 2.96s\n",
      "450:\tlearn: 3931.3566761\ttotal: 14s\tremaining: 1.52s\n",
      "499:\tlearn: 3460.4252215\ttotal: 16s\tremaining: 0us\n",
      "CPU times: user 1min 3s, sys: 41.4 s, total: 1min 45s\n",
      "Wall time: 16.2 s\n"
     ]
    },
    {
     "data": {
      "text/plain": [
       "0.99736437394909"
      ]
     },
     "execution_count": 6,
     "metadata": {},
     "output_type": "execute_result"
    }
   ],
   "source": [
    "%%time\n",
    "\n",
    "from catboost import CatBoostRegressor\n",
    "\n",
    "cb_model = CatBoostRegressor(\n",
    "    iterations=500,\n",
    "    learning_rate=0.05,\n",
    "    depth=10,\n",
    "    random_seed=42,\n",
    "    bagging_temperature=0.2,\n",
    "    od_type=\"Iter\",\n",
    "    metric_period=50,\n",
    "    od_wait=20,\n",
    ")\n",
    "\n",
    "cb_model.fit(X, y)\n",
    "r2_score(cb_model.predict(X), y)"
   ]
  },
  {
   "cell_type": "code",
   "execution_count": 22,
   "metadata": {},
   "outputs": [
    {
     "name": "stdout",
     "output_type": "stream",
     "text": [
      "Model: \"mlp_model\"\n",
      "_________________________________________________________________\n",
      "Layer (type)                 Output Shape              Param #   \n",
      "=================================================================\n",
      "mlp_input (InputLayer)       [(None, 79)]              0         \n",
      "_________________________________________________________________\n",
      "dense1 (Dense)               (None, 128)               10240     \n",
      "_________________________________________________________________\n",
      "dropout1 (Dropout)           (None, 128)               0         \n",
      "_________________________________________________________________\n",
      "dense2 (Dense)               (None, 64)                8256      \n",
      "_________________________________________________________________\n",
      "dropout2 (Dropout)           (None, 64)                0         \n",
      "_________________________________________________________________\n",
      "dense3 (Dense)               (None, 32)                2080      \n",
      "_________________________________________________________________\n",
      "dropout3 (Dropout)           (None, 32)                0         \n",
      "_________________________________________________________________\n",
      "mlp_output (Dense)           (None, 1)                 33        \n",
      "=================================================================\n",
      "Total params: 20,609\n",
      "Trainable params: 20,609\n",
      "Non-trainable params: 0\n",
      "_________________________________________________________________\n",
      "\n",
      "Epoch: 0, loss:36490825728.0000,  mae:178396.9062,  val_loss:36489797632.0000,  val_mae:178900.3594,  \n",
      "....................................................................................................\n",
      "Epoch: 100, loss:1434444416.0000,  mae:28375.0547,  val_loss:668814016.0000,  val_mae:18314.9180,  \n",
      "....................................................................................................\n",
      "Epoch: 200, loss:1344648960.0000,  mae:27840.3848,  val_loss:553890176.0000,  val_mae:17119.6641,  \n",
      "....................................................................................................\n",
      "Epoch: 300, loss:1297890432.0000,  mae:26510.2637,  val_loss:505857312.0000,  val_mae:16370.2334,  \n",
      "....................................................................................................\n",
      "Epoch: 400, loss:1322633472.0000,  mae:26546.2598,  val_loss:453482048.0000,  val_mae:15444.3896,  \n",
      ".............................CPU times: user 24.5 s, sys: 3.07 s, total: 27.6 s\n",
      "Wall time: 17.8 s\n"
     ]
    },
    {
     "data": {
      "text/plain": [
       "0.8869135649166006"
      ]
     },
     "execution_count": 22,
     "metadata": {},
     "output_type": "execute_result"
    }
   ],
   "source": [
    "%%time\n",
    "\n",
    "import tensorflow as tf\n",
    "import tensorflow_docs as tfdocs\n",
    "import tensorflow_docs.plots\n",
    "import tensorflow_docs.modeling\n",
    "\n",
    "# import logging\n",
    "\n",
    "# logger = logging.getLogger(__name__)\n",
    "\n",
    "# K = tf.keras.backend\n",
    "# def root_mean_squared_error(y_true, y_pred):\n",
    "#     \"\"\"https://stackoverflow.com/questions/43855162/rmse-rmsle-loss-function-in-keras/43863854\"\"\"\n",
    "#     return K.sqrt(K.mean(K.square(y_pred - y_true))) \n",
    "\n",
    "# learning_rate = 0.1\n",
    "# warmup_epochs = 1\n",
    "\n",
    "# def warmup(epochs):\n",
    "#     _learning_rate = learning_rate\n",
    "#     if epochs < warmup_epochs:\n",
    "#         _learning_rate *= 0.1\n",
    "#     logger.debug(f\"Learning rate = {_learning_rate}\")\n",
    "#     return _learning_rate\n",
    "\n",
    "inputs = tf.keras.Input((X.shape[1],), name=\"mlp_input\")\n",
    "x = tf.keras.layers.Dense(128, activation=\"relu\", name=\"dense1\")(inputs)\n",
    "x = tf.keras.layers.Dropout(0.2, name=\"dropout1\")(x)\n",
    "x = tf.keras.layers.Dense(64, activation=\"relu\", name=\"dense2\")(x)\n",
    "x = tf.keras.layers.Dropout(0.2, name=\"dropout2\")(x)\n",
    "x = tf.keras.layers.Dense(32, activation=\"relu\", name=\"dense3\")(x)\n",
    "x = tf.keras.layers.Dropout(0.2, name=\"dropout3\")(x)\n",
    "outputs = tf.keras.layers.Dense(1, name=\"mlp_output\")(x)\n",
    "mlp_model = tf.keras.Model(inputs, outputs, name=\"mlp_model\")\n",
    "# mlp_model.compile(optimizer=\"rmsprop\", loss=root_mean_squared_error, metrics=[\"mae\", \"mse\", \"acc\"])\n",
    "mlp_model.compile(\n",
    "    optimizer=tf.keras.optimizers.RMSprop(0.001), \n",
    "    loss=\"mse\", \n",
    "    metrics=[\"mae\"],\n",
    ")\n",
    "\n",
    "mlp_model.summary()\n",
    "\n",
    "history = mlp_model.fit(\n",
    "    X, \n",
    "    y,\n",
    "    epochs=1000,\n",
    "    validation_split=0.2,\n",
    "    callbacks=[\n",
    "        tf.keras.callbacks.EarlyStopping(monitor=\"val_loss\", patience=20),\n",
    "#         tf.keras.callbacks.LearningRateScheduler(warmup),\n",
    "        tfdocs.modeling.EpochDots(),\n",
    "    ],\n",
    "    verbose=0,  # verbosity: 0-2\n",
    ")\n",
    "\n",
    "\n",
    "\n",
    "r2_score(mlp_model.predict(X), y)"
   ]
  },
  {
   "cell_type": "markdown",
   "metadata": {},
   "source": [
    "# Sacred based"
   ]
  },
  {
   "cell_type": "code",
   "execution_count": 11,
   "metadata": {},
   "outputs": [
    {
     "name": "stderr",
     "output_type": "stream",
     "text": [
      "WARNING - neptune.internal.backends.credentials - WARNING: It is not secure to place API token in your source code. You should treat it as a password to your account. It is strongly recommended to use NEPTUNE_API_TOKEN environment variable instead. Remember not to upload source file with API token to any public repository.\n",
      "INFO - elastic_net - Running command 'run'\n",
      "WARNING - neptune.internal.hardware.gpu.gpu_monitor - NVMLError: NVML Shared Library Not Found - GPU usage metrics may not be reported.\n"
     ]
    },
    {
     "name": "stdout",
     "output_type": "stream",
     "text": [
      "https://ui.neptune.ai/chck/ml-management-tools/e/MLMAN-10\n"
     ]
    },
    {
     "name": "stderr",
     "output_type": "stream",
     "text": [
      "INFO - elastic_net - Started\n",
      "INFO - elastic_net - Result: 0.8940958224647267\n",
      "INFO - elastic_net - Completed after 0:00:02\n"
     ]
    },
    {
     "name": "stdout",
     "output_type": "stream",
     "text": [
      "Parameters: 0.0005 0.01 3\n"
     ]
    },
    {
     "data": {
      "text/plain": [
       "<sacred.run.Run at 0x13170fd90>"
      ]
     },
     "execution_count": 11,
     "metadata": {},
     "output_type": "execute_result"
    }
   ],
   "source": [
    "# Ready to use nepture project: NEPTUNE_API_TOKEN and NEPTURE_PROJECT_NAME\n",
    "# https://docs.neptune.ai/#get-started\n",
    "# https://docs.neptune.ai/integrations/sacred.html\n",
    "from sacred import Experiment\n",
    "from neptunecontrib.monitoring.sacred import NeptuneObserver\n",
    "import os\n",
    "import warnings\n",
    "warnings.filterwarnings('ignore')\n",
    "\n",
    "ex = Experiment(\"elastic_net\", interactive=True)\n",
    "\n",
    "# ex.observers.append(FileStorageObserver(\"sacredruns\"))\n",
    "# Observerを追加するだけなのでカンタン\n",
    "ex.observers.append(NeptuneObserver(api_token=os.environ[\"NEPTUNE_API_TOKEN\"],\n",
    "                                    project_name=os.environ[\"NEPTURE_PROJECT_NAME\"]))\n",
    "\n",
    "@ex.config\n",
    "def parameters():\n",
    "    alpha = 0.0005\n",
    "    l1_ratio = 0.9\n",
    "    random_state = 3\n",
    "\n",
    "@ex.capture\n",
    "def get_model(alpha: float, l1_ratio: float, random_state: int):\n",
    "    from sklearn.linear_model import ElasticNet\n",
    "    print(\"Parameters:\", alpha, l1_ratio, random_state)\n",
    "    return ElasticNet(\n",
    "        alpha=alpha,\n",
    "        l1_ratio=l1_ratio,\n",
    "        random_state=random_state,\n",
    "    )\n",
    "\n",
    "@ex.main\n",
    "def run():\n",
    "    model = get_model()  # Parameters are injected implicitly.\n",
    "    model.fit(X, y)\n",
    "    return r2_score(model.predict(X), y)\n",
    "\n",
    "ex.run(config_updates=dict(l1_ratio=0.01))"
   ]
  },
  {
   "cell_type": "code",
   "execution_count": 8,
   "metadata": {},
   "outputs": [
    {
     "name": "stderr",
     "output_type": "stream",
     "text": [
      "WARNING - neptune.internal.backends.credentials - WARNING: It is not secure to place API token in your source code. You should treat it as a password to your account. It is strongly recommended to use NEPTUNE_API_TOKEN environment variable instead. Remember not to upload source file with API token to any public repository.\n",
      "INFO - catboost - Running command 'run'\n"
     ]
    },
    {
     "name": "stdout",
     "output_type": "stream",
     "text": [
      "https://ui.neptune.ai/chck/ml-management-tools/e/MLMAN-12\n"
     ]
    },
    {
     "name": "stderr",
     "output_type": "stream",
     "text": [
      "INFO - catboost - Started\n"
     ]
    },
    {
     "name": "stdout",
     "output_type": "stream",
     "text": [
      "Parameters: 0.05 10 0.2\n",
      "0:\tlearn: 65718.3021685\ttotal: 43.9ms\tremaining: 21.9s\n",
      "50:\tlearn: 22014.5119625\ttotal: 1.9s\tremaining: 16.7s\n",
      "100:\tlearn: 14727.6169486\ttotal: 3.72s\tremaining: 14.7s\n",
      "150:\tlearn: 11667.9680263\ttotal: 5.71s\tremaining: 13.2s\n",
      "200:\tlearn: 9587.5430110\ttotal: 7.65s\tremaining: 11.4s\n",
      "250:\tlearn: 7806.1061150\ttotal: 9.54s\tremaining: 9.47s\n",
      "300:\tlearn: 6447.1232646\ttotal: 11.6s\tremaining: 7.66s\n",
      "350:\tlearn: 5470.8751770\ttotal: 13.6s\tremaining: 5.77s\n",
      "400:\tlearn: 4598.8963814\ttotal: 15.7s\tremaining: 3.88s\n",
      "450:\tlearn: 3931.3566761\ttotal: 17.6s\tremaining: 1.91s\n"
     ]
    },
    {
     "name": "stderr",
     "output_type": "stream",
     "text": [
      "INFO - catboost - Result: 0.99736437394909\n",
      "INFO - catboost - Completed after 0:00:21\n"
     ]
    },
    {
     "name": "stdout",
     "output_type": "stream",
     "text": [
      "499:\tlearn: 3460.4252215\ttotal: 19.6s\tremaining: 0us\n"
     ]
    },
    {
     "data": {
      "text/plain": [
       "<sacred.run.Run at 0x13465a5d0>"
      ]
     },
     "execution_count": 8,
     "metadata": {},
     "output_type": "execute_result"
    }
   ],
   "source": [
    "# Ready to use nepture project: NEPTUNE_API_TOKEN and NEPTURE_PROJECT_NAME\n",
    "# https://docs.neptune.ai/#get-started\n",
    "# https://docs.neptune.ai/integrations/sacred.html\n",
    "from sacred import Experiment\n",
    "from neptunecontrib.monitoring.sacred import NeptuneObserver\n",
    "import os\n",
    "import warnings\n",
    "warnings.filterwarnings('ignore')\n",
    "\n",
    "ex = Experiment(\"catboost\", interactive=True)\n",
    "\n",
    "# ex.observers.append(FileStorageObserver(\"sacredruns\"))\n",
    "# Observerを追加するだけなのでカンタン\n",
    "ex.observers.append(NeptuneObserver(api_token=os.environ[\"NEPTUNE_API_TOKEN\"],\n",
    "                                    project_name=os.environ[\"NEPTURE_PROJECT_NAME\"]))\n",
    "\n",
    "@ex.config\n",
    "def parameters():\n",
    "    learning_rate = 0.05\n",
    "    depth = 10\n",
    "    bagging_temperature = 0.2\n",
    "    \n",
    "@ex.capture\n",
    "def get_model(learning_rate: float, depth: int, bagging_temperature: float):\n",
    "    print(\"Parameters:\", learning_rate, depth, bagging_temperature)\n",
    "    from catboost import CatBoostRegressor\n",
    "    return CatBoostRegressor(\n",
    "        iterations=500,\n",
    "        learning_rate=learning_rate,\n",
    "        depth=depth,\n",
    "        random_seed=42,\n",
    "        bagging_temperature=bagging_temperature,\n",
    "        od_type=\"Iter\",\n",
    "        metric_period=50,\n",
    "        od_wait=20,\n",
    "    )\n",
    "\n",
    "@ex.main\n",
    "def run():\n",
    "    model = get_model()  # Parameters are injected implicitly.\n",
    "    model.fit(X, y)\n",
    "    return r2_score(model.predict(X), y)\n",
    "\n",
    "ex.run()"
   ]
  },
  {
   "cell_type": "code",
   "execution_count": 9,
   "metadata": {},
   "outputs": [
    {
     "name": "stdout",
     "output_type": "stream",
     "text": [
      "No known TensorBoard instances running.\n"
     ]
    }
   ],
   "source": [
    "%reload_ext tensorboard\n",
    "\n",
    "from tensorboard import notebook\n",
    "notebook.list()"
   ]
  },
  {
   "cell_type": "code",
   "execution_count": 10,
   "metadata": {},
   "outputs": [
    {
     "data": {
      "text/html": [
       "\n",
       "      <iframe id=\"tensorboard-frame-1e89fefe584327dd\" width=\"100%\" height=\"800\" frameborder=\"0\">\n",
       "      </iframe>\n",
       "      <script>\n",
       "        (function() {\n",
       "          const frame = document.getElementById(\"tensorboard-frame-1e89fefe584327dd\");\n",
       "          const url = new URL(\"/\", window.location);\n",
       "          url.port = 6007;\n",
       "          frame.src = url;\n",
       "        })();\n",
       "      </script>\n",
       "  "
      ],
      "text/plain": [
       "<IPython.core.display.HTML object>"
      ]
     },
     "metadata": {},
     "output_type": "display_data"
    }
   ],
   "source": [
    "%tensorboard --logdir /tmp/tensorboard/house_prices/logs --host=0.0.0.0 --port 6007"
   ]
  },
  {
   "cell_type": "code",
   "execution_count": 5,
   "metadata": {},
   "outputs": [
    {
     "name": "stderr",
     "output_type": "stream",
     "text": [
      "INFO - mlp - Running command 'run'\n",
      "WARNING - neptune.internal.hardware.gpu.gpu_monitor - NVMLError: NVML Shared Library Not Found - GPU usage metrics may not be reported.\n"
     ]
    },
    {
     "name": "stdout",
     "output_type": "stream",
     "text": [
      "https://ui.neptune.ai/chck/ml-management-tools/e/MLMAN-14\n"
     ]
    },
    {
     "name": "stderr",
     "output_type": "stream",
     "text": [
      "INFO - mlp - Started\n"
     ]
    },
    {
     "name": "stdout",
     "output_type": "stream",
     "text": [
      "Parameters: 128 0.2 0.001\n",
      "\n",
      "Epoch: 0, loss:36477490533.7831,  mae:178359.5625,  val_loss:36446607633.0667,  val_mae:178780.1094,  \n",
      "....................................................................................................\n",
      "Epoch: 100, loss:1362170841.0306,  mae:27876.1465,  val_loss:665374545.7778,  val_mae:18393.5781,  \n",
      "....................................................................................................\n",
      "Epoch: 200, loss:1354088602.4541,  mae:27591.6230,  val_loss:571678412.8000,  val_mae:17575.8887,  \n",
      "....................................................................................................\n",
      "Epoch: 300, loss:1249802814.1019,  mae:26314.1211,  val_loss:602744613.9259,  val_mae:17881.9902,  \n",
      "....................................................................................................\n",
      "Epoch: 400, loss:1232381094.5542,  mae:26380.0762,  val_loss:533573413.9259,  val_mae:16652.0176,  \n",
      "......................................"
     ]
    },
    {
     "name": "stderr",
     "output_type": "stream",
     "text": [
      "INFO - mlp - Result: 0.8817485109935098\n",
      "INFO - mlp - Completed after 0:00:24\n"
     ]
    },
    {
     "name": "stdout",
     "output_type": "stream",
     "text": [
      ".."
     ]
    },
    {
     "data": {
      "text/plain": [
       "<sacred.run.Run at 0x1474aedd0>"
      ]
     },
     "execution_count": 5,
     "metadata": {},
     "output_type": "execute_result"
    }
   ],
   "source": [
    "import tensorflow as tf\n",
    "import tensorflow_docs as tfdocs\n",
    "import tensorflow_docs.plots\n",
    "import tensorflow_docs.modeling\n",
    "import neptune_tensorboard as neptune_tb\n",
    "neptune_tb.integrate_with_tensorflow()\n",
    "from sacred import Experiment\n",
    "from neptunecontrib.monitoring.sacred import NeptuneObserver\n",
    "import os\n",
    "import warnings\n",
    "warnings.filterwarnings('ignore')\n",
    "\n",
    "ex = Experiment(\"mlp\", interactive=True)\n",
    "\n",
    "ex.observers.append(NeptuneObserver(api_token=os.environ[\"NEPTUNE_API_TOKEN\"],\n",
    "                                    project_name=os.environ[\"NEPTURE_PROJECT_NAME\"]))\n",
    "\n",
    "\n",
    "@ex.config\n",
    "def parameters():\n",
    "    hidden_unit: int = 128\n",
    "    dropout_rate: float = 0.2\n",
    "    learning_rate: float = 0.001\n",
    "\n",
    "@ex.capture\n",
    "def get_model(hidden_unit: int, dropout_rate: float, learning_rate: float):\n",
    "    print(\"Parameters:\", hidden_unit, dropout_rate, learning_rate)\n",
    "    inputs = tf.keras.Input((X.shape[1],), name=\"mlp_input\")\n",
    "    x = tf.keras.layers.Dense(hidden_unit, activation=\"relu\", name=\"dense1\")(inputs)\n",
    "    x = tf.keras.layers.Dropout(dropout_rate, name=\"dropout1\")(x)\n",
    "    x = tf.keras.layers.Dense(hidden_unit//2, activation=\"relu\", name=\"dense2\")(x)\n",
    "    x = tf.keras.layers.Dropout(dropout_rate, name=\"dropout2\")(x)\n",
    "    x = tf.keras.layers.Dense(hidden_unit//4, activation=\"relu\", name=\"dense3\")(x)\n",
    "    x = tf.keras.layers.Dropout(dropout_rate, name=\"dropout3\")(x)\n",
    "    outputs = tf.keras.layers.Dense(1, name=\"mlp_output\")(x)\n",
    "    mlp_model = tf.keras.Model(inputs, outputs, name=\"mlp_model\")\n",
    "    mlp_model.compile(\n",
    "        optimizer=tf.keras.optimizers.RMSprop(learning_rate), \n",
    "        loss=\"mse\", \n",
    "        metrics=[\"mae\"],\n",
    "    )\n",
    "    return mlp_model\n",
    "\n",
    "@ex.main\n",
    "def run():\n",
    "    model = get_model()  # Parameters are injected implicitly.\n",
    "    model.fit(X, \n",
    "              y,\n",
    "              epochs=1000,\n",
    "              validation_split=0.2,\n",
    "              callbacks=[\n",
    "                  tf.keras.callbacks.EarlyStopping(monitor=\"val_loss\", patience=20),\n",
    "                  tfdocs.modeling.EpochDots(),\n",
    "                  tf.keras.callbacks.TensorBoard(log_dir=\"/tmp/tensorboard/house_prices/logs\"),\n",
    "              ],\n",
    "              verbose=0)\n",
    "    return r2_score(model.predict(X), y)\n",
    "\n",
    "ex.run()"
   ]
  },
  {
   "cell_type": "code",
   "execution_count": null,
   "metadata": {},
   "outputs": [],
   "source": [
    "from sklearn.model_selection import train_test_split\n",
    "\n",
    "X_train, X_test, y_train, y_test = train_test_split(X, y, test_size=0.1)"
   ]
  },
  {
   "cell_type": "code",
   "execution_count": 27,
   "metadata": {},
   "outputs": [
    {
     "name": "stdout",
     "output_type": "stream",
     "text": [
      "https://ui.neptune.ai/chck/ml-management-tools/e/MLMAN-25\n",
      "[1]\tvalid_0's l1: 0.461921\tvalid_0's l2: 0.410647\n",
      "Training until validation scores don't improve for 10 rounds\n",
      "[2]\tvalid_0's l1: 0.441873\tvalid_0's l2: 0.374182\n",
      "[3]\tvalid_0's l1: 0.425393\tvalid_0's l2: 0.340401\n",
      "[4]\tvalid_0's l1: 0.40778\tvalid_0's l2: 0.312373\n",
      "[5]\tvalid_0's l1: 0.390555\tvalid_0's l2: 0.283232\n",
      "[6]\tvalid_0's l1: 0.374696\tvalid_0's l2: 0.257286\n",
      "[7]\tvalid_0's l1: 0.359833\tvalid_0's l2: 0.236476\n",
      "[8]\tvalid_0's l1: 0.347052\tvalid_0's l2: 0.215808\n",
      "[9]\tvalid_0's l1: 0.334858\tvalid_0's l2: 0.197306\n",
      "[10]\tvalid_0's l1: 0.322682\tvalid_0's l2: 0.181439\n",
      "[11]\tvalid_0's l1: 0.311658\tvalid_0's l2: 0.166562\n",
      "[12]\tvalid_0's l1: 0.301727\tvalid_0's l2: 0.153485\n",
      "[13]\tvalid_0's l1: 0.290481\tvalid_0's l2: 0.141128\n",
      "[14]\tvalid_0's l1: 0.281463\tvalid_0's l2: 0.130735\n",
      "[15]\tvalid_0's l1: 0.273525\tvalid_0's l2: 0.12276\n",
      "[16]\tvalid_0's l1: 0.264474\tvalid_0's l2: 0.113957\n",
      "[17]\tvalid_0's l1: 0.25475\tvalid_0's l2: 0.105174\n",
      "[18]\tvalid_0's l1: 0.247943\tvalid_0's l2: 0.0998029\n",
      "[19]\tvalid_0's l1: 0.242421\tvalid_0's l2: 0.0953524\n",
      "[20]\tvalid_0's l1: 0.233582\tvalid_0's l2: 0.0891365\n",
      "[21]\tvalid_0's l1: 0.226274\tvalid_0's l2: 0.084288\n",
      "[22]\tvalid_0's l1: 0.219473\tvalid_0's l2: 0.0799359\n",
      "[23]\tvalid_0's l1: 0.212701\tvalid_0's l2: 0.0748156\n",
      "[24]\tvalid_0's l1: 0.207062\tvalid_0's l2: 0.0716281\n",
      "[25]\tvalid_0's l1: 0.201497\tvalid_0's l2: 0.0684671\n",
      "[26]\tvalid_0's l1: 0.193668\tvalid_0's l2: 0.0642063\n",
      "[27]\tvalid_0's l1: 0.188784\tvalid_0's l2: 0.0615203\n",
      "[28]\tvalid_0's l1: 0.180992\tvalid_0's l2: 0.0576112\n",
      "[29]\tvalid_0's l1: 0.17666\tvalid_0's l2: 0.055723\n",
      "[30]\tvalid_0's l1: 0.172447\tvalid_0's l2: 0.0531412\n",
      "[31]\tvalid_0's l1: 0.168405\tvalid_0's l2: 0.0508071\n",
      "[32]\tvalid_0's l1: 0.164312\tvalid_0's l2: 0.0485557\n",
      "[33]\tvalid_0's l1: 0.158826\tvalid_0's l2: 0.0457673\n",
      "[34]\tvalid_0's l1: 0.153615\tvalid_0's l2: 0.043241\n",
      "[35]\tvalid_0's l1: 0.150512\tvalid_0's l2: 0.041664\n",
      "[36]\tvalid_0's l1: 0.143518\tvalid_0's l2: 0.0392332\n",
      "[37]\tvalid_0's l1: 0.141378\tvalid_0's l2: 0.0379438\n",
      "[38]\tvalid_0's l1: 0.135484\tvalid_0's l2: 0.0359462\n",
      "[39]\tvalid_0's l1: 0.133176\tvalid_0's l2: 0.035307\n",
      "[40]\tvalid_0's l1: 0.128798\tvalid_0's l2: 0.0337254\n",
      "[41]\tvalid_0's l1: 0.126334\tvalid_0's l2: 0.0324392\n",
      "[42]\tvalid_0's l1: 0.121475\tvalid_0's l2: 0.0309889\n",
      "[43]\tvalid_0's l1: 0.119193\tvalid_0's l2: 0.030353\n",
      "[44]\tvalid_0's l1: 0.117815\tvalid_0's l2: 0.0297345\n",
      "[45]\tvalid_0's l1: 0.116582\tvalid_0's l2: 0.0291975\n",
      "[46]\tvalid_0's l1: 0.114729\tvalid_0's l2: 0.0287896\n",
      "[47]\tvalid_0's l1: 0.112722\tvalid_0's l2: 0.0281772\n",
      "[48]\tvalid_0's l1: 0.11066\tvalid_0's l2: 0.0280744\n",
      "[49]\tvalid_0's l1: 0.109017\tvalid_0's l2: 0.0277826\n",
      "[50]\tvalid_0's l1: 0.10805\tvalid_0's l2: 0.0276129\n",
      "[51]\tvalid_0's l1: 0.106338\tvalid_0's l2: 0.0272625\n",
      "[52]\tvalid_0's l1: 0.105207\tvalid_0's l2: 0.027254\n",
      "[53]\tvalid_0's l1: 0.104301\tvalid_0's l2: 0.0270643\n",
      "[54]\tvalid_0's l1: 0.102783\tvalid_0's l2: 0.0268063\n",
      "[55]\tvalid_0's l1: 0.100652\tvalid_0's l2: 0.0264838\n",
      "[56]\tvalid_0's l1: 0.100329\tvalid_0's l2: 0.0264028\n",
      "[57]\tvalid_0's l1: 0.0989033\tvalid_0's l2: 0.026038\n",
      "[58]\tvalid_0's l1: 0.0971775\tvalid_0's l2: 0.0255337\n",
      "[59]\tvalid_0's l1: 0.0962283\tvalid_0's l2: 0.0255095\n",
      "[60]\tvalid_0's l1: 0.0944756\tvalid_0's l2: 0.0251314\n",
      "[61]\tvalid_0's l1: 0.0926971\tvalid_0's l2: 0.0249216\n",
      "[62]\tvalid_0's l1: 0.0921026\tvalid_0's l2: 0.0251571\n",
      "[63]\tvalid_0's l1: 0.0918904\tvalid_0's l2: 0.0253679\n",
      "[64]\tvalid_0's l1: 0.0906023\tvalid_0's l2: 0.0252019\n",
      "[65]\tvalid_0's l1: 0.0902023\tvalid_0's l2: 0.0250827\n",
      "[66]\tvalid_0's l1: 0.0889681\tvalid_0's l2: 0.0250294\n",
      "[67]\tvalid_0's l1: 0.0890956\tvalid_0's l2: 0.0251794\n",
      "[68]\tvalid_0's l1: 0.0889499\tvalid_0's l2: 0.025244\n",
      "[69]\tvalid_0's l1: 0.0880423\tvalid_0's l2: 0.0252375\n",
      "[70]\tvalid_0's l1: 0.0879293\tvalid_0's l2: 0.0253058\n",
      "[71]\tvalid_0's l1: 0.086921\tvalid_0's l2: 0.0253664\n",
      "Early stopping, best iteration is:\n",
      "[61]\tvalid_0's l1: 0.0926971\tvalid_0's l2: 0.0249216\n"
     ]
    }
   ],
   "source": [
    "import neptune\n",
    "import lightgbm as lgb\n",
    "import os\n",
    "\n",
    "params = {\n",
    "    'boosting_type': 'gbdt',\n",
    "    'num_leaves': 31,\n",
    "    'learning_rate': 0.05,\n",
    "    'feature_fraction': 0.9,\n",
    "    'n_estimators': 500,\n",
    "    \n",
    "}\n",
    "\n",
    "neptune.init(os.environ[\"NEPTURE_PROJECT_NAME\"])\n",
    "neptune.create_experiment(name=\"lightgbm\", params=params)\n",
    "\n",
    "def neptune_callback():\n",
    "    def callback(env):\n",
    "        for name, loss_name, loss_value, _ in env.evaluation_result_list:\n",
    "            neptune.send_metric('{}_{}'.format(name, loss_name), x=env.iteration, y=loss_value)\n",
    "    return callback\n",
    "\n",
    "model = lgb.LGBMRegressor(**params)\n",
    "model.fit(\n",
    "    X_train,\n",
    "    y_train,\n",
    "    eval_set=(X_test, y_test),\n",
    "    eval_metric=[\"mae\", \"mse\"],\n",
    "    callbacks=[\n",
    "        lgb.early_stopping(10),\n",
    "        neptune_callback(),\n",
    "    ]\n",
    ")\n",
    "\n",
    "neptune.stop()"
   ]
  },
  {
   "cell_type": "markdown",
   "metadata": {},
   "source": [
    "# Hydra + MLflow-Tracking based"
   ]
  },
  {
   "cell_type": "code",
   "execution_count": null,
   "metadata": {},
   "outputs": [],
   "source": []
  }
 ],
 "metadata": {
  "kernelspec": {
   "display_name": "Python 3",
   "language": "python",
   "name": "python3"
  },
  "language_info": {
   "codemirror_mode": {
    "name": "ipython",
    "version": 3
   },
   "file_extension": ".py",
   "mimetype": "text/x-python",
   "name": "python",
   "nbconvert_exporter": "python",
   "pygments_lexer": "ipython3",
   "version": "3.7.7"
  }
 },
 "nbformat": 4,
 "nbformat_minor": 4
}
