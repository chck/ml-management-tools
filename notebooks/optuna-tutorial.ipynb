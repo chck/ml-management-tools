{
 "cells": [
  {
   "cell_type": "code",
   "execution_count": 1,
   "metadata": {},
   "outputs": [],
   "source": [
    "\"\"\"https://optuna.readthedocs.io/en/stable/tutorial/first.html\n",
    "\"\"\"\n",
    "\n",
    "import optuna"
   ]
  },
  {
   "cell_type": "code",
   "execution_count": 2,
   "metadata": {},
   "outputs": [],
   "source": [
    "def objective(trial):\n",
    "    x = trial.suggest_uniform(\"x\", -10, 10)\n",
    "    return (x - 2) ** 2"
   ]
  },
  {
   "cell_type": "code",
   "execution_count": 3,
   "metadata": {
    "collapsed": true,
    "jupyter": {
     "outputs_hidden": true
    }
   },
   "outputs": [
    {
     "name": "stderr",
     "output_type": "stream",
     "text": [
      "[I 2020-05-13 18:52:58,474] Finished trial#0 with value: 44.023094676497585 with parameters: {'x': -4.634990179080718}. Best is trial#0 with value: 44.023094676497585.\n",
      "[I 2020-05-13 18:52:58,512] Finished trial#1 with value: 3.9912974962936767 with parameters: {'x': 3.9978231894473737}. Best is trial#1 with value: 3.9912974962936767.\n",
      "[I 2020-05-13 18:52:58,551] Finished trial#2 with value: 54.295429979770944 with parameters: {'x': 9.36854327392945}. Best is trial#1 with value: 3.9912974962936767.\n",
      "[I 2020-05-13 18:52:58,588] Finished trial#3 with value: 44.43390896670361 with parameters: {'x': -4.665876459003993}. Best is trial#1 with value: 3.9912974962936767.\n",
      "[I 2020-05-13 18:52:58,625] Finished trial#4 with value: 12.073817942153553 with parameters: {'x': 5.474739981948801}. Best is trial#1 with value: 3.9912974962936767.\n",
      "[I 2020-05-13 18:52:58,662] Finished trial#5 with value: 27.260557404706283 with parameters: {'x': -3.2211643725041146}. Best is trial#1 with value: 3.9912974962936767.\n",
      "[I 2020-05-13 18:52:58,701] Finished trial#6 with value: 134.7879499277956 with parameters: {'x': -9.609821270277834}. Best is trial#1 with value: 3.9912974962936767.\n",
      "[I 2020-05-13 18:52:58,737] Finished trial#7 with value: 5.852605031463924 with parameters: {'x': 4.4192157885281595}. Best is trial#1 with value: 3.9912974962936767.\n",
      "[I 2020-05-13 18:52:58,774] Finished trial#8 with value: 28.345265257002975 with parameters: {'x': -3.3240271653141455}. Best is trial#1 with value: 3.9912974962936767.\n",
      "[I 2020-05-13 18:52:58,810] Finished trial#9 with value: 55.042930784326494 with parameters: {'x': 9.419092315393204}. Best is trial#1 with value: 3.9912974962936767.\n",
      "[I 2020-05-13 18:52:58,860] Finished trial#10 with value: 0.2770062758787295 with parameters: {'x': 2.5263138568180867}. Best is trial#10 with value: 0.2770062758787295.\n",
      "[I 2020-05-13 18:52:58,898] Finished trial#11 with value: 0.29714704217747495 with parameters: {'x': 2.545111953801671}. Best is trial#10 with value: 0.2770062758787295.\n",
      "[I 2020-05-13 18:52:58,939] Finished trial#12 with value: 0.5041599458686495 with parameters: {'x': 1.2899577858544962}. Best is trial#10 with value: 0.2770062758787295.\n",
      "[I 2020-05-13 18:52:58,977] Finished trial#13 with value: 1.2190776587927747 with parameters: {'x': 0.8958815014715247}. Best is trial#10 with value: 0.2770062758787295.\n",
      "[I 2020-05-13 18:52:59,014] Finished trial#14 with value: 23.07971321364575 with parameters: {'x': 6.8041350120126465}. Best is trial#10 with value: 0.2770062758787295.\n",
      "[I 2020-05-13 18:52:59,054] Finished trial#15 with value: 10.48673778290456 with parameters: {'x': -1.238323298082599}. Best is trial#10 with value: 0.2770062758787295.\n",
      "[I 2020-05-13 18:52:59,091] Finished trial#16 with value: 0.24590097302733052 with parameters: {'x': 2.495884031833382}. Best is trial#16 with value: 0.24590097302733052.\n",
      "[I 2020-05-13 18:52:59,130] Finished trial#17 with value: 8.323393579782783 with parameters: {'x': -0.8850292164521976}. Best is trial#16 with value: 0.24590097302733052.\n",
      "[I 2020-05-13 18:52:59,172] Finished trial#18 with value: 28.59333158161643 with parameters: {'x': 7.347273284732736}. Best is trial#16 with value: 0.24590097302733052.\n",
      "[I 2020-05-13 18:52:59,210] Finished trial#19 with value: 107.16002690486506 with parameters: {'x': -8.35181273521044}. Best is trial#16 with value: 0.24590097302733052.\n",
      "[I 2020-05-13 18:52:59,249] Finished trial#20 with value: 0.20079900009926122 with parameters: {'x': 2.448106014352922}. Best is trial#20 with value: 0.20079900009926122.\n",
      "[I 2020-05-13 18:52:59,287] Finished trial#21 with value: 0.27590520708296573 with parameters: {'x': 2.5252667960979123}. Best is trial#20 with value: 0.20079900009926122.\n",
      "[I 2020-05-13 18:52:59,325] Finished trial#22 with value: 0.00901133604333314 with parameters: {'x': 2.0949280571977176}. Best is trial#22 with value: 0.00901133604333314.\n",
      "[I 2020-05-13 18:52:59,364] Finished trial#23 with value: 5.508684778553866 with parameters: {'x': -0.34705875055437563}. Best is trial#22 with value: 0.00901133604333314.\n",
      "[I 2020-05-13 18:52:59,403] Finished trial#24 with value: 5.139247725803156 with parameters: {'x': 4.266990896718193}. Best is trial#22 with value: 0.00901133604333314.\n",
      "[I 2020-05-13 18:52:59,442] Finished trial#25 with value: 0.7439655061268371 with parameters: {'x': 1.1374656493061641}. Best is trial#22 with value: 0.00901133604333314.\n",
      "[I 2020-05-13 18:52:59,480] Finished trial#26 with value: 15.081153476952885 with parameters: {'x': -1.883446082663294}. Best is trial#22 with value: 0.00901133604333314.\n",
      "[I 2020-05-13 18:52:59,520] Finished trial#27 with value: 29.04048369861022 with parameters: {'x': 7.388922313284004}. Best is trial#22 with value: 0.00901133604333314.\n",
      "[I 2020-05-13 18:52:59,559] Finished trial#28 with value: 15.28684023365295 with parameters: {'x': 5.909838901240427}. Best is trial#22 with value: 0.00901133604333314.\n",
      "[I 2020-05-13 18:52:59,599] Finished trial#29 with value: 0.42409355384406333 with parameters: {'x': 2.651224656968748}. Best is trial#22 with value: 0.00901133604333314.\n",
      "[I 2020-05-13 18:52:59,640] Finished trial#30 with value: 2.196438641342809 with parameters: {'x': 0.5179613225887763}. Best is trial#22 with value: 0.00901133604333314.\n",
      "[I 2020-05-13 18:52:59,686] Finished trial#31 with value: 1.434015356631507 with parameters: {'x': 3.1975038023453233}. Best is trial#22 with value: 0.00901133604333314.\n",
      "[I 2020-05-13 18:52:59,724] Finished trial#32 with value: 0.290364772680665 with parameters: {'x': 1.4611449427901182}. Best is trial#22 with value: 0.00901133604333314.\n",
      "[I 2020-05-13 18:52:59,764] Finished trial#33 with value: 3.535036479548933 with parameters: {'x': 3.8801692688555818}. Best is trial#22 with value: 0.00901133604333314.\n",
      "[I 2020-05-13 18:52:59,802] Finished trial#34 with value: 8.950581970154627 with parameters: {'x': 4.991752324333454}. Best is trial#22 with value: 0.00901133604333314.\n",
      "[I 2020-05-13 18:52:59,842] Finished trial#35 with value: 0.017287870185445343 with parameters: {'x': 1.8685166543419078}. Best is trial#22 with value: 0.00901133604333314.\n",
      "[I 2020-05-13 18:52:59,881] Finished trial#36 with value: 25.202175903465825 with parameters: {'x': -3.0201768796991426}. Best is trial#22 with value: 0.00901133604333314.\n",
      "[I 2020-05-13 18:52:59,923] Finished trial#37 with value: 4.203903579517333 with parameters: {'x': -0.05034230788844951}. Best is trial#22 with value: 0.00901133604333314.\n",
      "[I 2020-05-13 18:52:59,965] Finished trial#38 with value: 14.359303917818492 with parameters: {'x': 5.78936721865518}. Best is trial#22 with value: 0.00901133604333314.\n",
      "[I 2020-05-13 18:53:00,005] Finished trial#39 with value: 70.5833537730145 with parameters: {'x': -6.401389990532192}. Best is trial#22 with value: 0.00901133604333314.\n",
      "[I 2020-05-13 18:53:00,049] Finished trial#40 with value: 2.3189254246499096 with parameters: {'x': 3.5228018336769593}. Best is trial#22 with value: 0.00901133604333314.\n",
      "[I 2020-05-13 18:53:00,089] Finished trial#41 with value: 0.004007721059854914 with parameters: {'x': 2.063306564113486}. Best is trial#41 with value: 0.004007721059854914.\n",
      "[I 2020-05-13 18:53:00,130] Finished trial#42 with value: 0.17223371108755756 with parameters: {'x': 1.5849895048464948}. Best is trial#41 with value: 0.004007721059854914.\n",
      "[I 2020-05-13 18:53:00,175] Finished trial#43 with value: 0.10906151821150668 with parameters: {'x': 1.669755366112473}. Best is trial#41 with value: 0.004007721059854914.\n",
      "[I 2020-05-13 18:53:00,217] Finished trial#44 with value: 0.21932288701455374 with parameters: {'x': 1.531680785132028}. Best is trial#41 with value: 0.004007721059854914.\n",
      "[I 2020-05-13 18:53:00,260] Finished trial#45 with value: 14.96628905349617 with parameters: {'x': -1.8686288337725254}. Best is trial#41 with value: 0.004007721059854914.\n",
      "[I 2020-05-13 18:53:00,299] Finished trial#46 with value: 2.6567682306079954 with parameters: {'x': 0.37004042056006936}. Best is trial#41 with value: 0.004007721059854914.\n",
      "[I 2020-05-13 18:53:00,338] Finished trial#47 with value: 8.521539970464147 with parameters: {'x': 4.919167684540261}. Best is trial#41 with value: 0.004007721059854914.\n",
      "[I 2020-05-13 18:53:00,376] Finished trial#48 with value: 6.219556009254589 with parameters: {'x': -0.49390376904454536}. Best is trial#41 with value: 0.004007721059854914.\n",
      "[I 2020-05-13 18:53:00,416] Finished trial#49 with value: 0.004117923132224581 with parameters: {'x': 1.9358289540974702}. Best is trial#41 with value: 0.004007721059854914.\n",
      "[I 2020-05-13 18:53:00,456] Finished trial#50 with value: 1.67323154244042 with parameters: {'x': 3.293534515364944}. Best is trial#41 with value: 0.004007721059854914.\n",
      "[I 2020-05-13 18:53:00,493] Finished trial#51 with value: 0.004183924274455623 with parameters: {'x': 1.9353167388387411}. Best is trial#41 with value: 0.004007721059854914.\n",
      "[I 2020-05-13 18:53:00,537] Finished trial#52 with value: 0.10199746112577349 with parameters: {'x': 1.6806295863330896}. Best is trial#41 with value: 0.004007721059854914.\n",
      "[I 2020-05-13 18:53:00,579] Finished trial#53 with value: 2.4133629171065816 with parameters: {'x': 0.44649978528917433}. Best is trial#41 with value: 0.004007721059854914.\n",
      "[I 2020-05-13 18:53:00,619] Finished trial#54 with value: 0.040680362487889005 with parameters: {'x': 2.201693734379353}. Best is trial#41 with value: 0.004007721059854914.\n",
      "[I 2020-05-13 18:53:00,662] Finished trial#55 with value: 11.874772111261548 with parameters: {'x': -1.4459791222904337}. Best is trial#41 with value: 0.004007721059854914.\n",
      "[I 2020-05-13 18:53:00,705] Finished trial#56 with value: 0.05942783931134912 with parameters: {'x': 2.243778258487809}. Best is trial#41 with value: 0.004007721059854914.\n",
      "[I 2020-05-13 18:53:00,744] Finished trial#57 with value: 6.803409090486381 with parameters: {'x': 4.608334543436938}. Best is trial#41 with value: 0.004007721059854914.\n",
      "[I 2020-05-13 18:53:00,783] Finished trial#58 with value: 1.2636649263077975 with parameters: {'x': 3.1241285185902}. Best is trial#41 with value: 0.004007721059854914.\n",
      "[I 2020-05-13 18:53:00,822] Finished trial#59 with value: 1.3518699586281673 with parameters: {'x': 0.8373005725346867}. Best is trial#41 with value: 0.004007721059854914.\n",
      "[I 2020-05-13 18:53:00,861] Finished trial#60 with value: 3.820636274800642 with parameters: {'x': 3.954644795046057}. Best is trial#41 with value: 0.004007721059854914.\n",
      "[I 2020-05-13 18:53:00,901] Finished trial#61 with value: 0.1535993273114222 with parameters: {'x': 2.391917500644488}. Best is trial#41 with value: 0.004007721059854914.\n",
      "[I 2020-05-13 18:53:00,941] Finished trial#62 with value: 0.12351701334269986 with parameters: {'x': 2.351449873157894}. Best is trial#41 with value: 0.004007721059854914.\n",
      "[I 2020-05-13 18:53:00,979] Finished trial#63 with value: 0.0010987277613712357 with parameters: {'x': 2.033147062635643}. Best is trial#63 with value: 0.0010987277613712357.\n",
      "[I 2020-05-13 18:53:01,020] Finished trial#64 with value: 0.9542517301429947 with parameters: {'x': 2.9768580910976756}. Best is trial#63 with value: 0.0010987277613712357.\n",
      "[I 2020-05-13 18:53:01,064] Finished trial#65 with value: 5.573280841446755 with parameters: {'x': -0.3607797104869306}. Best is trial#63 with value: 0.0010987277613712357.\n",
      "[I 2020-05-13 18:53:01,102] Finished trial#66 with value: 3.0000934107393085 with parameters: {'x': 3.7320777727167185}. Best is trial#63 with value: 0.0010987277613712357.\n",
      "[I 2020-05-13 18:53:01,142] Finished trial#67 with value: 0.8104537937961928 with parameters: {'x': 1.0997479276357134}. Best is trial#63 with value: 0.0010987277613712357.\n",
      "[I 2020-05-13 18:53:01,185] Finished trial#68 with value: 0.006618020939664932 with parameters: {'x': 1.9186487803431016}. Best is trial#63 with value: 0.0010987277613712357.\n",
      "[I 2020-05-13 18:53:01,224] Finished trial#69 with value: 20.405529310019883 with parameters: {'x': 6.517247979690719}. Best is trial#63 with value: 0.0010987277613712357.\n",
      "[I 2020-05-13 18:53:01,265] Finished trial#70 with value: 8.205602382783548 with parameters: {'x': -0.8645422640944833}. Best is trial#63 with value: 0.0010987277613712357.\n",
      "[I 2020-05-13 18:53:01,304] Finished trial#71 with value: 1.6525594145160358e-06 with parameters: {'x': 2.001285519122579}. Best is trial#71 with value: 1.6525594145160358e-06.\n",
      "[I 2020-05-13 18:53:01,343] Finished trial#72 with value: 0.011596844993973232 with parameters: {'x': 1.8923113516011403}. Best is trial#71 with value: 1.6525594145160358e-06.\n",
      "[I 2020-05-13 18:53:01,382] Finished trial#73 with value: 1.1812894752654903 with parameters: {'x': 0.9131285838400707}. Best is trial#71 with value: 1.6525594145160358e-06.\n",
      "[I 2020-05-13 18:53:01,422] Finished trial#74 with value: 1.4648633538248932 with parameters: {'x': 3.2103153943600375}. Best is trial#71 with value: 1.6525594145160358e-06.\n",
      "[I 2020-05-13 18:53:01,465] Finished trial#75 with value: 2.9659078405617447 with parameters: {'x': 0.27781887115154325}. Best is trial#71 with value: 1.6525594145160358e-06.\n",
      "[I 2020-05-13 18:53:01,502] Finished trial#76 with value: 0.6863551255100164 with parameters: {'x': 2.828465524635767}. Best is trial#71 with value: 1.6525594145160358e-06.\n",
      "[I 2020-05-13 18:53:01,540] Finished trial#77 with value: 6.253575213964298 with parameters: {'x': 4.500714940564857}. Best is trial#71 with value: 1.6525594145160358e-06.\n",
      "[I 2020-05-13 18:53:01,577] Finished trial#78 with value: 0.020419184312035918 with parameters: {'x': 1.8571042886856435}. Best is trial#71 with value: 1.6525594145160358e-06.\n",
      "[I 2020-05-13 18:53:01,616] Finished trial#79 with value: 1.6825013415343422 with parameters: {'x': 0.7028873057693321}. Best is trial#71 with value: 1.6525594145160358e-06.\n",
      "[I 2020-05-13 18:53:01,655] Finished trial#80 with value: 0.7481780910946985 with parameters: {'x': 1.1350271153991598}. Best is trial#71 with value: 1.6525594145160358e-06.\n",
      "[I 2020-05-13 18:53:01,695] Finished trial#81 with value: 0.09580612512048033 with parameters: {'x': 1.690474354664302}. Best is trial#71 with value: 1.6525594145160358e-06.\n",
      "[I 2020-05-13 18:53:01,736] Finished trial#82 with value: 0.004588969905416286 with parameters: {'x': 2.0677419360914366}. Best is trial#71 with value: 1.6525594145160358e-06.\n",
      "[I 2020-05-13 18:53:01,774] Finished trial#83 with value: 2.7272076989705516 with parameters: {'x': 3.651425959275968}. Best is trial#71 with value: 1.6525594145160358e-06.\n",
      "[I 2020-05-13 18:53:01,813] Finished trial#84 with value: 4.166298495620556 with parameters: {'x': -0.04115126720695428}. Best is trial#71 with value: 1.6525594145160358e-06.\n",
      "[I 2020-05-13 18:53:01,852] Finished trial#85 with value: 0.006766962669782107 with parameters: {'x': 2.082261550373076}. Best is trial#71 with value: 1.6525594145160358e-06.\n",
      "[I 2020-05-13 18:53:01,890] Finished trial#86 with value: 0.8886455152938011 with parameters: {'x': 2.9426799644066914}. Best is trial#71 with value: 1.6525594145160358e-06.\n",
      "[I 2020-05-13 18:53:01,932] Finished trial#87 with value: 11.132385851312057 with parameters: {'x': 5.336523018249995}. Best is trial#71 with value: 1.6525594145160358e-06.\n",
      "[I 2020-05-13 18:53:01,973] Finished trial#88 with value: 0.48016346721294045 with parameters: {'x': 1.3070617147155597}. Best is trial#71 with value: 1.6525594145160358e-06.\n",
      "[I 2020-05-13 18:53:02,012] Finished trial#89 with value: 5.196196837595021 with parameters: {'x': 4.279516799147359}. Best is trial#71 with value: 1.6525594145160358e-06.\n",
      "[I 2020-05-13 18:53:02,054] Finished trial#90 with value: 0.002381180820189395 with parameters: {'x': 2.048797344396897}. Best is trial#71 with value: 1.6525594145160358e-06.\n",
      "[I 2020-05-13 18:53:02,095] Finished trial#91 with value: 0.010855762842945867 with parameters: {'x': 2.104190992139176}. Best is trial#71 with value: 1.6525594145160358e-06.\n",
      "[I 2020-05-13 18:53:02,134] Finished trial#92 with value: 0.3194635412020502 with parameters: {'x': 2.565211058987747}. Best is trial#71 with value: 1.6525594145160358e-06.\n",
      "[I 2020-05-13 18:53:02,176] Finished trial#93 with value: 3.258111125172383 with parameters: {'x': 0.19497614276919228}. Best is trial#71 with value: 1.6525594145160358e-06.\n",
      "[I 2020-05-13 18:53:02,215] Finished trial#94 with value: 0.5386616462534638 with parameters: {'x': 1.266064276483653}. Best is trial#71 with value: 1.6525594145160358e-06.\n",
      "[I 2020-05-13 18:53:02,256] Finished trial#95 with value: 2.6054071172132987 with parameters: {'x': 3.6141273547069632}. Best is trial#71 with value: 1.6525594145160358e-06.\n",
      "[I 2020-05-13 18:53:02,297] Finished trial#96 with value: 1.6358990372567688 with parameters: {'x': 0.720977311672397}. Best is trial#71 with value: 1.6525594145160358e-06.\n",
      "[I 2020-05-13 18:53:02,340] Finished trial#97 with value: 0.5342554319684526 with parameters: {'x': 2.730927788477393}. Best is trial#71 with value: 1.6525594145160358e-06.\n",
      "[I 2020-05-13 18:53:02,380] Finished trial#98 with value: 0.018871571711298617 with parameters: {'x': 2.13737383925369}. Best is trial#71 with value: 1.6525594145160358e-06.\n",
      "[I 2020-05-13 18:53:02,424] Finished trial#99 with value: 1.885601981016135 with parameters: {'x': 3.373172232830294}. Best is trial#71 with value: 1.6525594145160358e-06.\n"
     ]
    }
   ],
   "source": [
    "study = optuna.create_study()\n",
    "study.optimize(objective, n_trials=100)"
   ]
  },
  {
   "cell_type": "code",
   "execution_count": 4,
   "metadata": {},
   "outputs": [
    {
     "data": {
      "text/plain": [
       "{'x': 2.001285519122579}"
      ]
     },
     "execution_count": 4,
     "metadata": {},
     "output_type": "execute_result"
    }
   ],
   "source": [
    "study.best_params"
   ]
  },
  {
   "cell_type": "code",
   "execution_count": 5,
   "metadata": {},
   "outputs": [
    {
     "data": {
      "text/plain": [
       "1.6525594145160358e-06"
      ]
     },
     "execution_count": 5,
     "metadata": {},
     "output_type": "execute_result"
    }
   ],
   "source": [
    "study.best_value"
   ]
  },
  {
   "cell_type": "code",
   "execution_count": 6,
   "metadata": {},
   "outputs": [
    {
     "data": {
      "text/plain": [
       "FrozenTrial(number=71, value=1.6525594145160358e-06, datetime_start=datetime.datetime(2020, 5, 13, 18, 53, 1, 268310), datetime_complete=datetime.datetime(2020, 5, 13, 18, 53, 1, 304147), params={'x': 2.001285519122579}, distributions={'x': UniformDistribution(high=10, low=-10)}, user_attrs={}, system_attrs={}, intermediate_values={}, trial_id=71, state=TrialState.COMPLETE)"
      ]
     },
     "execution_count": 6,
     "metadata": {},
     "output_type": "execute_result"
    }
   ],
   "source": [
    "study.best_trial"
   ]
  },
  {
   "cell_type": "code",
   "execution_count": 7,
   "metadata": {},
   "outputs": [
    {
     "data": {
      "text/plain": [
       "100"
      ]
     },
     "execution_count": 7,
     "metadata": {},
     "output_type": "execute_result"
    }
   ],
   "source": [
    "len(study.trials)"
   ]
  },
  {
   "cell_type": "code",
   "execution_count": 8,
   "metadata": {
    "collapsed": true,
    "jupyter": {
     "outputs_hidden": true
    }
   },
   "outputs": [
    {
     "name": "stderr",
     "output_type": "stream",
     "text": [
      "[I 2020-05-13 19:05:16,516] Finished trial#100 with value: 8.06284480009551 with parameters: {'x': -0.8395148881623267}. Best is trial#71 with value: 1.6525594145160358e-06.\n",
      "[I 2020-05-13 19:05:16,555] Finished trial#101 with value: 0.01882065833933969 with parameters: {'x': 2.1371884045367526}. Best is trial#71 with value: 1.6525594145160358e-06.\n",
      "[I 2020-05-13 19:05:16,597] Finished trial#102 with value: 0.00583829294292758 with parameters: {'x': 1.9235912770494914}. Best is trial#71 with value: 1.6525594145160358e-06.\n",
      "[I 2020-05-13 19:05:16,637] Finished trial#103 with value: 0.15089643226908114 with parameters: {'x': 1.611546100200962}. Best is trial#71 with value: 1.6525594145160358e-06.\n",
      "[I 2020-05-13 19:05:16,678] Finished trial#104 with value: 0.5760353795507477 with parameters: {'x': 2.758969946408122}. Best is trial#71 with value: 1.6525594145160358e-06.\n",
      "[I 2020-05-13 19:05:16,719] Finished trial#105 with value: 4.084547067009341 with parameters: {'x': 4.021026241049171}. Best is trial#71 with value: 1.6525594145160358e-06.\n",
      "[I 2020-05-13 19:05:16,758] Finished trial#106 with value: 0.4503996393508479 with parameters: {'x': 1.3288817992701674}. Best is trial#71 with value: 1.6525594145160358e-06.\n",
      "[I 2020-05-13 19:05:16,798] Finished trial#107 with value: 1.1184088053079126 with parameters: {'x': 0.9424515116043555}. Best is trial#71 with value: 1.6525594145160358e-06.\n",
      "[I 2020-05-13 19:05:16,839] Finished trial#108 with value: 0.013958575377059352 with parameters: {'x': 1.8818535850012394}. Best is trial#71 with value: 1.6525594145160358e-06.\n",
      "[I 2020-05-13 19:05:16,881] Finished trial#109 with value: 0.17634661001544763 with parameters: {'x': 2.419936435684554}. Best is trial#71 with value: 1.6525594145160358e-06.\n",
      "[I 2020-05-13 19:05:16,921] Finished trial#110 with value: 2.1577356299100776 with parameters: {'x': 0.5310767106788463}. Best is trial#71 with value: 1.6525594145160358e-06.\n",
      "[I 2020-05-13 19:05:16,962] Finished trial#111 with value: 0.014606680181412798 with parameters: {'x': 2.1208580993620734}. Best is trial#71 with value: 1.6525594145160358e-06.\n",
      "[I 2020-05-13 19:05:17,003] Finished trial#112 with value: 1.2139223752261314 with parameters: {'x': 3.1017814552923513}. Best is trial#71 with value: 1.6525594145160358e-06.\n",
      "[I 2020-05-13 19:05:17,043] Finished trial#113 with value: 6.360804765699709e-05 with parameters: {'x': 2.0079754653567674}. Best is trial#71 with value: 1.6525594145160358e-06.\n",
      "[I 2020-05-13 19:05:17,083] Finished trial#114 with value: 0.1943983888004332 with parameters: {'x': 1.559093673440227}. Best is trial#71 with value: 1.6525594145160358e-06.\n",
      "[I 2020-05-13 19:05:17,123] Finished trial#115 with value: 0.5482529604772239 with parameters: {'x': 2.7404410580709473}. Best is trial#71 with value: 1.6525594145160358e-06.\n",
      "[I 2020-05-13 19:05:17,165] Finished trial#116 with value: 1.840465918275832 with parameters: {'x': 3.3566377255095894}. Best is trial#71 with value: 1.6525594145160358e-06.\n",
      "[I 2020-05-13 19:05:17,205] Finished trial#117 with value: 4.161262402072453 with parameters: {'x': -0.039917253731742486}. Best is trial#71 with value: 1.6525594145160358e-06.\n",
      "[I 2020-05-13 19:05:17,248] Finished trial#118 with value: 0.6829877255416248 with parameters: {'x': 1.173569285698054}. Best is trial#71 with value: 1.6525594145160358e-06.\n",
      "[I 2020-05-13 19:05:17,288] Finished trial#119 with value: 0.03041132080674348 with parameters: {'x': 1.8256115806403892}. Best is trial#71 with value: 1.6525594145160358e-06.\n",
      "[I 2020-05-13 19:05:17,330] Finished trial#120 with value: 0.3733526987465148 with parameters: {'x': 2.611025939503811}. Best is trial#71 with value: 1.6525594145160358e-06.\n",
      "[I 2020-05-13 19:05:17,372] Finished trial#121 with value: 0.04447819129662457 with parameters: {'x': 2.2108985331779825}. Best is trial#71 with value: 1.6525594145160358e-06.\n",
      "[I 2020-05-13 19:05:17,412] Finished trial#122 with value: 0.01933658898710885 with parameters: {'x': 2.1390560641867475}. Best is trial#71 with value: 1.6525594145160358e-06.\n",
      "[I 2020-05-13 19:05:17,451] Finished trial#123 with value: 1.4427285613461673 with parameters: {'x': 0.7988636374889955}. Best is trial#71 with value: 1.6525594145160358e-06.\n",
      "[I 2020-05-13 19:05:17,490] Finished trial#124 with value: 0.32192131680136304 with parameters: {'x': 1.4326188963303739}. Best is trial#71 with value: 1.6525594145160358e-06.\n",
      "[I 2020-05-13 19:05:17,531] Finished trial#125 with value: 1.0232419278567784 with parameters: {'x': 3.0115542139978353}. Best is trial#71 with value: 1.6525594145160358e-06.\n",
      "[I 2020-05-13 19:05:17,571] Finished trial#126 with value: 0.002297835971567545 with parameters: {'x': 1.9520642516323408}. Best is trial#71 with value: 1.6525594145160358e-06.\n",
      "[I 2020-05-13 19:05:17,611] Finished trial#127 with value: 4.119695794309064 with parameters: {'x': 4.029703375941683}. Best is trial#71 with value: 1.6525594145160358e-06.\n",
      "[I 2020-05-13 19:05:17,651] Finished trial#128 with value: 0.1327155511545939 with parameters: {'x': 1.6356985435733287}. Best is trial#71 with value: 1.6525594145160358e-06.\n",
      "[I 2020-05-13 19:05:17,691] Finished trial#129 with value: 2.8357164967475796 with parameters: {'x': 0.31604142071499286}. Best is trial#71 with value: 1.6525594145160358e-06.\n",
      "[I 2020-05-13 19:05:17,730] Finished trial#130 with value: 0.9589227285392845 with parameters: {'x': 1.020753999988111}. Best is trial#71 with value: 1.6525594145160358e-06.\n",
      "[I 2020-05-13 19:05:17,770] Finished trial#131 with value: 62.06970170147541 with parameters: {'x': 9.878432693212236}. Best is trial#71 with value: 1.6525594145160358e-06.\n",
      "[I 2020-05-13 19:05:17,812] Finished trial#132 with value: 0.0004360426941520605 with parameters: {'x': 2.0208816353323216}. Best is trial#71 with value: 1.6525594145160358e-06.\n",
      "[I 2020-05-13 19:05:17,855] Finished trial#133 with value: 0.23326379090742233 with parameters: {'x': 2.4829739029258437}. Best is trial#71 with value: 1.6525594145160358e-06.\n",
      "[I 2020-05-13 19:05:17,894] Finished trial#134 with value: 0.015596305130682336 with parameters: {'x': 1.8751148322230284}. Best is trial#71 with value: 1.6525594145160358e-06.\n",
      "[I 2020-05-13 19:05:17,934] Finished trial#135 with value: 1.8589029188783606 with parameters: {'x': 3.3634159009188505}. Best is trial#71 with value: 1.6525594145160358e-06.\n",
      "[I 2020-05-13 19:05:17,975] Finished trial#136 with value: 0.6447306097998259 with parameters: {'x': 2.8029511876819324}. Best is trial#71 with value: 1.6525594145160358e-06.\n",
      "[I 2020-05-13 19:05:18,015] Finished trial#137 with value: 0.47154562498125413 with parameters: {'x': 1.3133082023343703}. Best is trial#71 with value: 1.6525594145160358e-06.\n",
      "[I 2020-05-13 19:05:18,060] Finished trial#138 with value: 0.1733524296696455 with parameters: {'x': 2.416356133219682}. Best is trial#71 with value: 1.6525594145160358e-06.\n",
      "[I 2020-05-13 19:05:18,101] Finished trial#139 with value: 2.0030952603064187 with parameters: {'x': 0.5846925209317875}. Best is trial#71 with value: 1.6525594145160358e-06.\n",
      "[I 2020-05-13 19:05:18,142] Finished trial#140 with value: 0.009833948403239177 with parameters: {'x': 1.9008337335418986}. Best is trial#71 with value: 1.6525594145160358e-06.\n",
      "[I 2020-05-13 19:05:18,184] Finished trial#141 with value: 0.002515783593381215 with parameters: {'x': 1.9498424124046898}. Best is trial#71 with value: 1.6525594145160358e-06.\n",
      "[I 2020-05-13 19:05:18,227] Finished trial#142 with value: 0.12853244560300406 with parameters: {'x': 2.3585142195269304}. Best is trial#71 with value: 1.6525594145160358e-06.\n",
      "[I 2020-05-13 19:05:18,267] Finished trial#143 with value: 0.30250253982675124 with parameters: {'x': 1.4499976910714363}. Best is trial#71 with value: 1.6525594145160358e-06.\n",
      "[I 2020-05-13 19:05:18,307] Finished trial#144 with value: 0.021170811387003347 with parameters: {'x': 1.8544980708478291}. Best is trial#71 with value: 1.6525594145160358e-06.\n",
      "[I 2020-05-13 19:05:18,349] Finished trial#145 with value: 0.9985028344615942 with parameters: {'x': 2.9992511368327754}. Best is trial#71 with value: 1.6525594145160358e-06.\n",
      "[I 2020-05-13 19:05:18,391] Finished trial#146 with value: 1.0006692850685552 with parameters: {'x': 0.9996654134398055}. Best is trial#71 with value: 1.6525594145160358e-06.\n",
      "[I 2020-05-13 19:05:18,430] Finished trial#147 with value: 2.8541490584224 with parameters: {'x': 3.6894226997475794}. Best is trial#71 with value: 1.6525594145160358e-06.\n",
      "[I 2020-05-13 19:05:18,470] Finished trial#148 with value: 0.39549041458790796 with parameters: {'x': 2.6288802863724605}. Best is trial#71 with value: 1.6525594145160358e-06.\n",
      "[I 2020-05-13 19:05:18,510] Finished trial#149 with value: 0.1626098494017126 with parameters: {'x': 1.5967508841897944}. Best is trial#71 with value: 1.6525594145160358e-06.\n",
      "[I 2020-05-13 19:05:18,552] Finished trial#150 with value: 1.1402443786093963 with parameters: {'x': 3.067822259839809}. Best is trial#71 with value: 1.6525594145160358e-06.\n",
      "[I 2020-05-13 19:05:18,592] Finished trial#151 with value: 0.0008969139616153477 with parameters: {'x': 2.0299485218602746}. Best is trial#71 with value: 1.6525594145160358e-06.\n",
      "[I 2020-05-13 19:05:18,633] Finished trial#152 with value: 0.048142465573446654 with parameters: {'x': 2.219413913810056}. Best is trial#71 with value: 1.6525594145160358e-06.\n",
      "[I 2020-05-13 19:05:18,674] Finished trial#153 with value: 0.015537011683196433 with parameters: {'x': 1.8753524501516519}. Best is trial#71 with value: 1.6525594145160358e-06.\n",
      "[I 2020-05-13 19:05:18,716] Finished trial#154 with value: 0.5476212685435091 with parameters: {'x': 1.2599856295020284}. Best is trial#71 with value: 1.6525594145160358e-06.\n",
      "[I 2020-05-13 19:05:18,756] Finished trial#155 with value: 0.02865886955274425 with parameters: {'x': 2.1692893072605126}. Best is trial#71 with value: 1.6525594145160358e-06.\n",
      "[I 2020-05-13 19:05:18,797] Finished trial#156 with value: 0.2447803919676804 with parameters: {'x': 2.4947528594840866}. Best is trial#71 with value: 1.6525594145160358e-06.\n",
      "[I 2020-05-13 19:05:18,838] Finished trial#157 with value: 1.0281070630491953 with parameters: {'x': 0.9860438554606046}. Best is trial#71 with value: 1.6525594145160358e-06.\n",
      "[I 2020-05-13 19:05:18,879] Finished trial#158 with value: 0.20336963501705888 with parameters: {'x': 1.5490347740489752}. Best is trial#71 with value: 1.6525594145160358e-06.\n",
      "[I 2020-05-13 19:05:18,919] Finished trial#159 with value: 0.8329165000342661 with parameters: {'x': 2.9126425916174776}. Best is trial#71 with value: 1.6525594145160358e-06.\n",
      "[I 2020-05-13 19:05:18,960] Finished trial#160 with value: 1.9221535472612827 with parameters: {'x': 0.6135824772957885}. Best is trial#71 with value: 1.6525594145160358e-06.\n",
      "[I 2020-05-13 19:05:18,999] Finished trial#161 with value: 0.0031243186317370785 with parameters: {'x': 1.9441043952377552}. Best is trial#71 with value: 1.6525594145160358e-06.\n",
      "[I 2020-05-13 19:05:19,041] Finished trial#162 with value: 6.166355319171719e-05 with parameters: {'x': 2.007852614417614}. Best is trial#71 with value: 1.6525594145160358e-06.\n",
      "[I 2020-05-13 19:05:19,082] Finished trial#163 with value: 0.0013557016190845184 with parameters: {'x': 2.0368198535994444}. Best is trial#71 with value: 1.6525594145160358e-06.\n",
      "[I 2020-05-13 19:05:19,122] Finished trial#164 with value: 0.05297062416347271 with parameters: {'x': 1.7698465204184983}. Best is trial#71 with value: 1.6525594145160358e-06.\n",
      "[I 2020-05-13 19:05:19,162] Finished trial#165 with value: 0.34380975258761226 with parameters: {'x': 2.5863529249416364}. Best is trial#71 with value: 1.6525594145160358e-06.\n",
      "[I 2020-05-13 19:05:19,204] Finished trial#166 with value: 0.37497882785810144 with parameters: {'x': 1.387644851529685}. Best is trial#71 with value: 1.6525594145160358e-06.\n",
      "[I 2020-05-13 19:05:19,248] Finished trial#167 with value: 0.011165477539144332 with parameters: {'x': 2.105666823266077}. Best is trial#71 with value: 1.6525594145160358e-06.\n",
      "[I 2020-05-13 19:05:19,290] Finished trial#168 with value: 1.814800776566067 with parameters: {'x': 3.347145417750462}. Best is trial#71 with value: 1.6525594145160358e-06.\n",
      "[I 2020-05-13 19:05:19,330] Finished trial#169 with value: 1.1749415731847095 with parameters: {'x': 0.9160527811813393}. Best is trial#71 with value: 1.6525594145160358e-06.\n",
      "[I 2020-05-13 19:05:19,371] Finished trial#170 with value: 0.15915269940176244 with parameters: {'x': 2.3989394683429586}. Best is trial#71 with value: 1.6525594145160358e-06.\n",
      "[I 2020-05-13 19:05:19,414] Finished trial#171 with value: 3.612693550123474e-05 with parameters: {'x': 1.9939894313495947}. Best is trial#71 with value: 1.6525594145160358e-06.\n",
      "[I 2020-05-13 19:05:19,453] Finished trial#172 with value: 0.0459765623908653 with parameters: {'x': 1.785578540274381}. Best is trial#71 with value: 1.6525594145160358e-06.\n",
      "[I 2020-05-13 19:05:19,494] Finished trial#173 with value: 0.4326306414035597 with parameters: {'x': 1.3422533607812506}. Best is trial#71 with value: 1.6525594145160358e-06.\n",
      "[I 2020-05-13 19:05:19,534] Finished trial#174 with value: 135.52002302456535 with parameters: {'x': -9.641306757600942}. Best is trial#71 with value: 1.6525594145160358e-06.\n",
      "[I 2020-05-13 19:05:19,578] Finished trial#175 with value: 0.6671923189252373 with parameters: {'x': 2.816818412454835}. Best is trial#71 with value: 1.6525594145160358e-06.\n",
      "[I 2020-05-13 19:05:19,616] Finished trial#176 with value: 0.008888024282088125 with parameters: {'x': 2.0942763187767115}. Best is trial#71 with value: 1.6525594145160358e-06.\n",
      "[I 2020-05-13 19:05:19,654] Finished trial#177 with value: 0.17008986117035005 with parameters: {'x': 1.5875804791594486}. Best is trial#71 with value: 1.6525594145160358e-06.\n",
      "[I 2020-05-13 19:05:19,701] Finished trial#178 with value: 0.14273621702546127 with parameters: {'x': 2.377804469303185}. Best is trial#71 with value: 1.6525594145160358e-06.\n",
      "[I 2020-05-13 19:05:19,746] Finished trial#179 with value: 0.007891452338136347 with parameters: {'x': 1.911166153195213}. Best is trial#71 with value: 1.6525594145160358e-06.\n",
      "[I 2020-05-13 19:05:19,794] Finished trial#180 with value: 0.6887152991059999 with parameters: {'x': 1.1701112730576466}. Best is trial#71 with value: 1.6525594145160358e-06.\n",
      "[I 2020-05-13 19:05:19,841] Finished trial#181 with value: 0.00264151628822762 with parameters: {'x': 2.0513956835563807}. Best is trial#71 with value: 1.6525594145160358e-06.\n",
      "[I 2020-05-13 19:05:19,888] Finished trial#182 with value: 0.3671186742471455 with parameters: {'x': 2.6059031888405486}. Best is trial#71 with value: 1.6525594145160358e-06.\n",
      "[I 2020-05-13 19:05:19,928] Finished trial#183 with value: 0.00047060180340361557 with parameters: {'x': 1.9783066414909167}. Best is trial#71 with value: 1.6525594145160358e-06.\n",
      "[I 2020-05-13 19:05:19,969] Finished trial#184 with value: 0.13450331371641755 with parameters: {'x': 1.6332530658391027}. Best is trial#71 with value: 1.6525594145160358e-06.\n",
      "[I 2020-05-13 19:05:20,009] Finished trial#185 with value: 0.032934458030082304 with parameters: {'x': 2.1814785332486526}. Best is trial#71 with value: 1.6525594145160358e-06.\n",
      "[I 2020-05-13 19:05:20,050] Finished trial#186 with value: 1.4911234882164583 with parameters: {'x': 3.2211156735610507}. Best is trial#71 with value: 1.6525594145160358e-06.\n",
      "[I 2020-05-13 19:05:20,091] Finished trial#187 with value: 0.5236001153690898 with parameters: {'x': 2.7236021803236152}. Best is trial#71 with value: 1.6525594145160358e-06.\n",
      "[I 2020-05-13 19:05:20,130] Finished trial#188 with value: 0.4176770268964846 with parameters: {'x': 1.353720627826878}. Best is trial#71 with value: 1.6525594145160358e-06.\n",
      "[I 2020-05-13 19:05:20,172] Finished trial#189 with value: 0.00027590201385965443 with parameters: {'x': 2.0166102984277723}. Best is trial#71 with value: 1.6525594145160358e-06.\n",
      "[I 2020-05-13 19:05:20,217] Finished trial#190 with value: 0.1042844921309671 with parameters: {'x': 2.3229310950202335}. Best is trial#71 with value: 1.6525594145160358e-06.\n",
      "[I 2020-05-13 19:05:20,257] Finished trial#191 with value: 0.009952382478948215 with parameters: {'x': 1.900238371710621}. Best is trial#71 with value: 1.6525594145160358e-06.\n",
      "[I 2020-05-13 19:05:20,299] Finished trial#192 with value: 0.06090697796105488 with parameters: {'x': 1.7532066087573355}. Best is trial#71 with value: 1.6525594145160358e-06.\n",
      "[I 2020-05-13 19:05:20,342] Finished trial#193 with value: 0.09960442851348487 with parameters: {'x': 2.315601692824175}. Best is trial#71 with value: 1.6525594145160358e-06.\n",
      "[I 2020-05-13 19:05:20,384] Finished trial#194 with value: 0.7800907020499852 with parameters: {'x': 2.883227435064143}. Best is trial#71 with value: 1.6525594145160358e-06.\n",
      "[I 2020-05-13 19:05:20,426] Finished trial#195 with value: 1.0640125264823428 with parameters: {'x': 0.968490171407784}. Best is trial#71 with value: 1.6525594145160358e-06.\n",
      "[I 2020-05-13 19:05:20,466] Finished trial#196 with value: 0.21971223218369723 with parameters: {'x': 1.5312652859199596}. Best is trial#71 with value: 1.6525594145160358e-06.\n",
      "[I 2020-05-13 19:05:20,509] Finished trial#197 with value: 0.001197605314159865 with parameters: {'x': 2.0346064345774}. Best is trial#71 with value: 1.6525594145160358e-06.\n",
      "[I 2020-05-13 19:05:20,549] Finished trial#198 with value: 0.31393025690333404 with parameters: {'x': 2.5602947946423686}. Best is trial#71 with value: 1.6525594145160358e-06.\n",
      "[I 2020-05-13 19:05:20,590] Finished trial#199 with value: 0.01736300115432653 with parameters: {'x': 2.131768741188214}. Best is trial#71 with value: 1.6525594145160358e-06.\n"
     ]
    }
   ],
   "source": [
    "study.optimize(objective, n_trials=100)"
   ]
  },
  {
   "cell_type": "code",
   "execution_count": 11,
   "metadata": {},
   "outputs": [
    {
     "data": {
      "text/plain": [
       "200"
      ]
     },
     "execution_count": 11,
     "metadata": {},
     "output_type": "execute_result"
    }
   ],
   "source": [
    "len(study.trials)"
   ]
  },
  {
   "cell_type": "markdown",
   "metadata": {},
   "source": [
    "## Advanced Configurations"
   ]
  },
  {
   "cell_type": "code",
   "execution_count": null,
   "metadata": {},
   "outputs": [],
   "source": [
    "def objective(trial):\n",
    "    # Categorial parameter\n",
    "    optimizer = trial.suggest_categorical(\"optimizer\", [\"MomentumSGD\", \"Adam\"])"
   ]
  }
 ],
 "metadata": {
  "kernelspec": {
   "display_name": "Python 3",
   "language": "python",
   "name": "python3"
  },
  "language_info": {
   "codemirror_mode": {
    "name": "ipython",
    "version": 3
   },
   "file_extension": ".py",
   "mimetype": "text/x-python",
   "name": "python",
   "nbconvert_exporter": "python",
   "pygments_lexer": "ipython3",
   "version": "3.7.7"
  }
 },
 "nbformat": 4,
 "nbformat_minor": 4
}
